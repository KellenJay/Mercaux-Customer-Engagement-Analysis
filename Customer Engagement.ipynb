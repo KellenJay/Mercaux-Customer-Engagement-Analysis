{
 "cells": [
  {
   "cell_type": "markdown",
   "id": "c6cf6898-052f-4db0-a639-40bdd7f4031f",
   "metadata": {},
   "source": [
    "# 1. Import and Checks"
   ]
  },
  {
   "cell_type": "code",
   "execution_count": 3,
   "id": "68bf0ffa-1d45-4814-8789-cc03b6ac3271",
   "metadata": {},
   "outputs": [],
   "source": [
    "import pandas as pd\n",
    "import numpy as np\n",
    "import matplotlib.pyplot as plt"
   ]
  },
  {
   "cell_type": "markdown",
   "id": "7fb5312e-2182-4219-9209-45fd210312c5",
   "metadata": {},
   "source": [
    "**1.1. Import Transaction Dataset**"
   ]
  },
  {
   "cell_type": "code",
   "execution_count": 76,
   "id": "6b407332-3ea7-4745-bfc7-9333cfa48840",
   "metadata": {},
   "outputs": [
    {
     "data": {
      "text/html": [
       "<div>\n",
       "<style scoped>\n",
       "    .dataframe tbody tr th:only-of-type {\n",
       "        vertical-align: middle;\n",
       "    }\n",
       "\n",
       "    .dataframe tbody tr th {\n",
       "        vertical-align: top;\n",
       "    }\n",
       "\n",
       "    .dataframe thead th {\n",
       "        text-align: right;\n",
       "    }\n",
       "</style>\n",
       "<table border=\"1\" class=\"dataframe\">\n",
       "  <thead>\n",
       "    <tr style=\"text-align: right;\">\n",
       "      <th></th>\n",
       "      <th>phone_encoded</th>\n",
       "      <th>Customer_id_encoded</th>\n",
       "      <th>Amount_Including_VAT</th>\n",
       "      <th>Order_Date</th>\n",
       "      <th>Return_Date</th>\n",
       "      <th>location_encoded</th>\n",
       "      <th>transaction_id_encoded</th>\n",
       "    </tr>\n",
       "  </thead>\n",
       "  <tbody>\n",
       "    <tr>\n",
       "      <th>0</th>\n",
       "      <td>1528</td>\n",
       "      <td>3864</td>\n",
       "      <td>-135.0</td>\n",
       "      <td>2024-12-28</td>\n",
       "      <td>2025-01-13</td>\n",
       "      <td>421e5f1c</td>\n",
       "      <td>5ab145ef</td>\n",
       "    </tr>\n",
       "    <tr>\n",
       "      <th>1</th>\n",
       "      <td>1528</td>\n",
       "      <td>4719</td>\n",
       "      <td>51.0</td>\n",
       "      <td>2023-06-06</td>\n",
       "      <td>2000-01-01</td>\n",
       "      <td>f3a00157</td>\n",
       "      <td>3f84e133</td>\n",
       "    </tr>\n",
       "    <tr>\n",
       "      <th>2</th>\n",
       "      <td>1528</td>\n",
       "      <td>6584</td>\n",
       "      <td>95.0</td>\n",
       "      <td>2023-10-27</td>\n",
       "      <td>2000-01-01</td>\n",
       "      <td>Online_Sales</td>\n",
       "      <td>31ed25d4</td>\n",
       "    </tr>\n",
       "    <tr>\n",
       "      <th>3</th>\n",
       "      <td>1528</td>\n",
       "      <td>9793</td>\n",
       "      <td>58.0</td>\n",
       "      <td>2023-06-19</td>\n",
       "      <td>2000-01-01</td>\n",
       "      <td>fb72e28e</td>\n",
       "      <td>47cf0e03</td>\n",
       "    </tr>\n",
       "    <tr>\n",
       "      <th>4</th>\n",
       "      <td>1528</td>\n",
       "      <td>3102</td>\n",
       "      <td>23.0</td>\n",
       "      <td>2023-11-01</td>\n",
       "      <td>2000-01-01</td>\n",
       "      <td>Online_Sales</td>\n",
       "      <td>1409aa5f</td>\n",
       "    </tr>\n",
       "    <tr>\n",
       "      <th>...</th>\n",
       "      <td>...</td>\n",
       "      <td>...</td>\n",
       "      <td>...</td>\n",
       "      <td>...</td>\n",
       "      <td>...</td>\n",
       "      <td>...</td>\n",
       "      <td>...</td>\n",
       "    </tr>\n",
       "    <tr>\n",
       "      <th>58371</th>\n",
       "      <td>1</td>\n",
       "      <td>1760</td>\n",
       "      <td>55.0</td>\n",
       "      <td>2024-11-19</td>\n",
       "      <td>2000-01-01</td>\n",
       "      <td>436a35c0</td>\n",
       "      <td>6ff3c91b</td>\n",
       "    </tr>\n",
       "    <tr>\n",
       "      <th>58372</th>\n",
       "      <td>1</td>\n",
       "      <td>2449</td>\n",
       "      <td>385.0</td>\n",
       "      <td>2024-09-17</td>\n",
       "      <td>2000-01-01</td>\n",
       "      <td>caddbc5a</td>\n",
       "      <td>87fbb47f</td>\n",
       "    </tr>\n",
       "    <tr>\n",
       "      <th>58373</th>\n",
       "      <td>1</td>\n",
       "      <td>1760</td>\n",
       "      <td>32.0</td>\n",
       "      <td>2024-11-19</td>\n",
       "      <td>2000-01-01</td>\n",
       "      <td>436a35c0</td>\n",
       "      <td>6ff3c91b</td>\n",
       "    </tr>\n",
       "    <tr>\n",
       "      <th>58374</th>\n",
       "      <td>1</td>\n",
       "      <td>1760</td>\n",
       "      <td>160.0</td>\n",
       "      <td>2024-11-19</td>\n",
       "      <td>2000-01-01</td>\n",
       "      <td>436a35c0</td>\n",
       "      <td>6ff3c91b</td>\n",
       "    </tr>\n",
       "    <tr>\n",
       "      <th>58375</th>\n",
       "      <td>1</td>\n",
       "      <td>1760</td>\n",
       "      <td>175.0</td>\n",
       "      <td>2024-11-19</td>\n",
       "      <td>2000-01-01</td>\n",
       "      <td>436a35c0</td>\n",
       "      <td>6ff3c91b</td>\n",
       "    </tr>\n",
       "  </tbody>\n",
       "</table>\n",
       "<p>58376 rows × 7 columns</p>\n",
       "</div>"
      ],
      "text/plain": [
       "       phone_encoded  Customer_id_encoded  Amount_Including_VAT Order_Date  \\\n",
       "0               1528                 3864                -135.0 2024-12-28   \n",
       "1               1528                 4719                  51.0 2023-06-06   \n",
       "2               1528                 6584                  95.0 2023-10-27   \n",
       "3               1528                 9793                  58.0 2023-06-19   \n",
       "4               1528                 3102                  23.0 2023-11-01   \n",
       "...              ...                  ...                   ...        ...   \n",
       "58371              1                 1760                  55.0 2024-11-19   \n",
       "58372              1                 2449                 385.0 2024-09-17   \n",
       "58373              1                 1760                  32.0 2024-11-19   \n",
       "58374              1                 1760                 160.0 2024-11-19   \n",
       "58375              1                 1760                 175.0 2024-11-19   \n",
       "\n",
       "      Return_Date location_encoded transaction_id_encoded  \n",
       "0      2025-01-13         421e5f1c               5ab145ef  \n",
       "1      2000-01-01         f3a00157               3f84e133  \n",
       "2      2000-01-01     Online_Sales               31ed25d4  \n",
       "3      2000-01-01         fb72e28e               47cf0e03  \n",
       "4      2000-01-01     Online_Sales               1409aa5f  \n",
       "...           ...              ...                    ...  \n",
       "58371  2000-01-01         436a35c0               6ff3c91b  \n",
       "58372  2000-01-01         caddbc5a               87fbb47f  \n",
       "58373  2000-01-01         436a35c0               6ff3c91b  \n",
       "58374  2000-01-01         436a35c0               6ff3c91b  \n",
       "58375  2000-01-01         436a35c0               6ff3c91b  \n",
       "\n",
       "[58376 rows x 7 columns]"
      ]
     },
     "execution_count": 76,
     "metadata": {},
     "output_type": "execute_result"
    }
   ],
   "source": [
    "# Importing Sales dataset\n",
    "transaction_data = pd.read_csv(r\"C:\\Users\\Ellen\\Desktop\\Maurcex\\CSV files\\DA Sales_Encoded 25 02.csv\")\n",
    "transaction_data['Order_Date'] = pd.to_datetime(transaction_data['Order_Date'], format='mixed')\n",
    "transaction_data['Return_Date'] = pd.to_datetime(transaction_data['Return_Date'], format='mixed')\n",
    "transaction_data"
   ]
  },
  {
   "cell_type": "markdown",
   "id": "311baddc-c87e-43ec-876a-bf93e2b49dc1",
   "metadata": {},
   "source": [
    "**1.2. Import Communciation Dataset**"
   ]
  },
  {
   "cell_type": "code",
   "execution_count": 78,
   "id": "12f8c9ef-8316-42cc-a7c5-8f5ef023a179",
   "metadata": {},
   "outputs": [
    {
     "data": {
      "text/html": [
       "<div>\n",
       "<style scoped>\n",
       "    .dataframe tbody tr th:only-of-type {\n",
       "        vertical-align: middle;\n",
       "    }\n",
       "\n",
       "    .dataframe tbody tr th {\n",
       "        vertical-align: top;\n",
       "    }\n",
       "\n",
       "    .dataframe thead th {\n",
       "        text-align: right;\n",
       "    }\n",
       "</style>\n",
       "<table border=\"1\" class=\"dataframe\">\n",
       "  <thead>\n",
       "    <tr style=\"text-align: right;\">\n",
       "      <th></th>\n",
       "      <th>phone_encoded</th>\n",
       "      <th>number_of_messages</th>\n",
       "      <th>has_response</th>\n",
       "      <th>id of conversation</th>\n",
       "      <th>date_of_communication</th>\n",
       "      <th>location_encoded</th>\n",
       "    </tr>\n",
       "  </thead>\n",
       "  <tbody>\n",
       "    <tr>\n",
       "      <th>0</th>\n",
       "      <td>177</td>\n",
       "      <td>6</td>\n",
       "      <td>True</td>\n",
       "      <td>1105642</td>\n",
       "      <td>2024-01-04 16:26:49</td>\n",
       "      <td>65751190</td>\n",
       "    </tr>\n",
       "    <tr>\n",
       "      <th>1</th>\n",
       "      <td>241</td>\n",
       "      <td>14</td>\n",
       "      <td>True</td>\n",
       "      <td>1116444</td>\n",
       "      <td>2024-01-11 13:42:21</td>\n",
       "      <td>67f6beac</td>\n",
       "    </tr>\n",
       "    <tr>\n",
       "      <th>2</th>\n",
       "      <td>177</td>\n",
       "      <td>10</td>\n",
       "      <td>True</td>\n",
       "      <td>1116617</td>\n",
       "      <td>2024-01-11 16:43:18</td>\n",
       "      <td>67f6beac</td>\n",
       "    </tr>\n",
       "    <tr>\n",
       "      <th>3</th>\n",
       "      <td>426</td>\n",
       "      <td>8</td>\n",
       "      <td>True</td>\n",
       "      <td>1117247</td>\n",
       "      <td>2024-01-12 11:16:16</td>\n",
       "      <td>67f6beac</td>\n",
       "    </tr>\n",
       "    <tr>\n",
       "      <th>4</th>\n",
       "      <td>177</td>\n",
       "      <td>3</td>\n",
       "      <td>False</td>\n",
       "      <td>1144892</td>\n",
       "      <td>2024-01-22 11:04:02</td>\n",
       "      <td>67f6beac</td>\n",
       "    </tr>\n",
       "    <tr>\n",
       "      <th>...</th>\n",
       "      <td>...</td>\n",
       "      <td>...</td>\n",
       "      <td>...</td>\n",
       "      <td>...</td>\n",
       "      <td>...</td>\n",
       "      <td>...</td>\n",
       "    </tr>\n",
       "    <tr>\n",
       "      <th>4814</th>\n",
       "      <td>1344</td>\n",
       "      <td>2</td>\n",
       "      <td>False</td>\n",
       "      <td>1982439</td>\n",
       "      <td>2024-12-30 16:38:21</td>\n",
       "      <td>f3a00157</td>\n",
       "    </tr>\n",
       "    <tr>\n",
       "      <th>4815</th>\n",
       "      <td>1182</td>\n",
       "      <td>2</td>\n",
       "      <td>False</td>\n",
       "      <td>1982440</td>\n",
       "      <td>2024-12-30 16:38:21</td>\n",
       "      <td>f3a00157</td>\n",
       "    </tr>\n",
       "    <tr>\n",
       "      <th>4816</th>\n",
       "      <td>892</td>\n",
       "      <td>2</td>\n",
       "      <td>False</td>\n",
       "      <td>1982441</td>\n",
       "      <td>2024-12-30 16:38:21</td>\n",
       "      <td>f3a00157</td>\n",
       "    </tr>\n",
       "    <tr>\n",
       "      <th>4817</th>\n",
       "      <td>1442</td>\n",
       "      <td>2</td>\n",
       "      <td>False</td>\n",
       "      <td>1982442</td>\n",
       "      <td>2024-12-30 16:38:21</td>\n",
       "      <td>f3a00157</td>\n",
       "    </tr>\n",
       "    <tr>\n",
       "      <th>4818</th>\n",
       "      <td>898</td>\n",
       "      <td>2</td>\n",
       "      <td>False</td>\n",
       "      <td>1982443</td>\n",
       "      <td>2024-12-30 16:38:21</td>\n",
       "      <td>f3a00157</td>\n",
       "    </tr>\n",
       "  </tbody>\n",
       "</table>\n",
       "<p>4819 rows × 6 columns</p>\n",
       "</div>"
      ],
      "text/plain": [
       "      phone_encoded  number_of_messages  has_response  id of conversation  \\\n",
       "0               177                   6          True             1105642   \n",
       "1               241                  14          True             1116444   \n",
       "2               177                  10          True             1116617   \n",
       "3               426                   8          True             1117247   \n",
       "4               177                   3         False             1144892   \n",
       "...             ...                 ...           ...                 ...   \n",
       "4814           1344                   2         False             1982439   \n",
       "4815           1182                   2         False             1982440   \n",
       "4816            892                   2         False             1982441   \n",
       "4817           1442                   2         False             1982442   \n",
       "4818            898                   2         False             1982443   \n",
       "\n",
       "     date_of_communication location_encoded  \n",
       "0      2024-01-04 16:26:49         65751190  \n",
       "1      2024-01-11 13:42:21         67f6beac  \n",
       "2      2024-01-11 16:43:18         67f6beac  \n",
       "3      2024-01-12 11:16:16         67f6beac  \n",
       "4      2024-01-22 11:04:02         67f6beac  \n",
       "...                    ...              ...  \n",
       "4814   2024-12-30 16:38:21         f3a00157  \n",
       "4815   2024-12-30 16:38:21         f3a00157  \n",
       "4816   2024-12-30 16:38:21         f3a00157  \n",
       "4817   2024-12-30 16:38:21         f3a00157  \n",
       "4818   2024-12-30 16:38:21         f3a00157  \n",
       "\n",
       "[4819 rows x 6 columns]"
      ]
     },
     "execution_count": 78,
     "metadata": {},
     "output_type": "execute_result"
    }
   ],
   "source": [
    "# Importing Communications dataset\n",
    "communication_data = pd.read_csv(r\"C:\\Users\\Ellen\\Desktop\\Maurcex\\CSV files\\DA Outbound_Encoded 25 02.csv\")\n",
    "communication_data"
   ]
  },
  {
   "cell_type": "code",
   "execution_count": 86,
   "id": "e307ee95-8cca-47e2-971d-fdadce0feade",
   "metadata": {},
   "outputs": [
    {
     "name": "stdout",
     "output_type": "stream",
     "text": [
      "   phone_encoded date_of_communication\n",
      "0            177   2024-01-04 16:26:49\n",
      "1            241   2024-01-11 13:42:21\n",
      "2            177   2024-01-11 16:43:18\n",
      "3            426   2024-01-12 11:16:16\n",
      "4            177   2024-01-22 11:04:02\n"
     ]
    }
   ],
   "source": [
    "# Convert 'date_of_communication' to datetime format\n",
    "import pandas as pd\n",
    "\n",
    "communication_data['date_of_communication'] = pd.to_datetime(communication_data['date_of_communication'], errors='coerce')\n",
    "\n",
    "# Check the result\n",
    "print(communication_data[['phone_encoded', 'date_of_communication']].head())"
   ]
  },
  {
   "cell_type": "markdown",
   "id": "25547f84-9df4-4551-9512-003f6e4795e8",
   "metadata": {},
   "source": [
    "# 2. Data Cleaning\n",
    "**2.1. Handling missing values**"
   ]
  },
  {
   "cell_type": "code",
   "execution_count": 88,
   "id": "7bfd50d5-f8a6-447e-9e2f-ad25776edf5c",
   "metadata": {},
   "outputs": [
    {
     "name": "stdout",
     "output_type": "stream",
     "text": [
      "Amount_Including_VAT    50\n",
      "dtype: int64\n"
     ]
    }
   ],
   "source": [
    "# Check for missing values in the transaction data\n",
    "missing_transaction_data = transaction_data.isnull().sum()\n",
    "\n",
    "# Display columns with missing values\n",
    "print(missing_transaction_data[missing_transaction_data > 0])"
   ]
  },
  {
   "cell_type": "code",
   "execution_count": 90,
   "id": "fd9e21b6-f98d-40f3-9cbf-696b2e879112",
   "metadata": {},
   "outputs": [
    {
     "data": {
      "image/png": "[encoded data removed]",
      "text/plain": [
       "<Figure size 1000x800 with 2 Axes>"
      ]
     },
     "metadata": {},
     "output_type": "display_data"
    }
   ],
   "source": [
    "# Checking distribution to impute missing values\n",
    "import matplotlib.pyplot as plt\n",
    "import seaborn as sns\n",
    "\n",
    "# Drop missing values for visualization\n",
    "valid_vat = transaction_data['Amount_Including_VAT'].dropna()\n",
    "\n",
    "# Get summary statistics\n",
    "summary_stats = valid_vat.describe()\n",
    "\n",
    "# Extract key metrics\n",
    "mean_value = summary_stats['mean']\n",
    "median_value = summary_stats['50%']\n",
    "std_dev = summary_stats['std']\n",
    "min_value = summary_stats['min']\n",
    "max_value = summary_stats['max']\n",
    "q1 = summary_stats['25%']\n",
    "q3 = summary_stats['75%']\n",
    "\n",
    "# Set up the figure\n",
    "plt.figure(figsize=(10, 8))\n",
    "\n",
    "# Histogram with KDE\n",
    "plt.subplot(2, 1, 1)\n",
    "sns.histplot(valid_vat, kde=True, color='skyblue')\n",
    "plt.title('Histogram and KDE of Amount Including VAT')\n",
    "plt.xlabel('Amount Including VAT')\n",
    "plt.ylabel('Frequency')\n",
    "\n",
    "# Boxplot\n",
    "plt.subplot(2, 1, 2)\n",
    "sns.boxplot(x=valid_vat, color='lightcoral')\n",
    "plt.title('Boxplot of Amount Including VAT')\n",
    "\n",
    "# Add text with summary statistics\n",
    "summary_text = (\n",
    "    f\"Count: {summary_stats['count']:.0f}\\n\"\n",
    "    f\"Mean: {mean_value:.2f}\\n\"\n",
    "    f\"Median: {median_value:.2f}\\n\"\n",
    "    f\"Standard Deviation: {std_dev:.2f}\\n\"\n",
    "    f\"Min: {min_value:.2f}\\n\"\n",
    "    f\"25th Percentile (Q1): {q1:.2f}\\n\"\n",
    "    f\"75th Percentile (Q3): {q3:.2f}\\n\"\n",
    "    f\"Max: {max_value:.2f}\"\n",
    ")\n",
    "\n",
    "# Adjust the text position to be below the boxplot\n",
    "plt.text(x=0.5, y=-0.4, s=summary_text, ha='center', va='top', transform=plt.gca().transAxes)\n",
    "\n",
    "# Adjust layout\n",
    "plt.tight_layout(rect=[0, 0.1, 1, 0.95])  # Leave space for the text\n",
    "plt.show()"
   ]
  },
  {
   "cell_type": "code",
   "execution_count": 92,
   "id": "4405ba09-8e8f-4def-9ca2-688ca9d3fe29",
   "metadata": {},
   "outputs": [],
   "source": [
    "# Calculate the mean\n",
    "mean_vat = transaction_data['Amount_Including_VAT'].mean()"
   ]
  },
  {
   "cell_type": "code",
   "execution_count": 94,
   "id": "a4a1b257-8fcf-4a77-ba23-32988d1e945b",
   "metadata": {},
   "outputs": [],
   "source": [
    "transaction_data['Amount_Including_VAT'] = transaction_data['Amount_Including_VAT'].fillna(mean_vat)"
   ]
  },
  {
   "cell_type": "code",
   "execution_count": 96,
   "id": "9926c00e-1c61-4f53-b31e-041498b5d461",
   "metadata": {},
   "outputs": [
    {
     "name": "stdout",
     "output_type": "stream",
     "text": [
      "Series([], dtype: int64)\n"
     ]
    }
   ],
   "source": [
    "# Double checking for missing values again in the transaction data\n",
    "missing_transaction_data = transaction_data.isnull().sum()\n",
    "\n",
    "# Display columns with missing values\n",
    "print(missing_transaction_data[missing_transaction_data > 0])"
   ]
  },
  {
   "cell_type": "code",
   "execution_count": 99,
   "id": "e87bfae9-f638-42c3-970a-566b70ec99a8",
   "metadata": {},
   "outputs": [
    {
     "name": "stdout",
     "output_type": "stream",
     "text": [
      "Series([], dtype: int64)\n"
     ]
    }
   ],
   "source": [
    "# Check for missing values in the communication data\n",
    "missing_communication_data = communication_data.isnull().sum()\n",
    "\n",
    "# Display columns with missing values\n",
    "print(missing_communication_data[missing_communication_data > 0])"
   ]
  },
  {
   "cell_type": "markdown",
   "id": "a4cf7cd2-0828-4f0d-b084-ece1dfc2b327",
   "metadata": {},
   "source": [
    "**2.2. Checking for blank rows** "
   ]
  },
  {
   "cell_type": "code",
   "execution_count": 159,
   "id": "d010a47f-0e7d-42fb-bdb4-fe55c95fcb94",
   "metadata": {},
   "outputs": [],
   "source": [
    "# Check for rows with any blank values (NaN or empty strings) in any column\n",
    "blank_rows = transaction_data[transaction_data.isna().any(axis=1) | (transaction_data == '').any(axis=1)]"
   ]
  },
  {
   "cell_type": "code",
   "execution_count": 161,
   "id": "19b94982-0457-4383-86d6-c6b3a6f9b37e",
   "metadata": {},
   "outputs": [],
   "source": [
    "# Check for rows with any blank values (NaN or empty strings) in any column\n",
    "blank_rows = communication_data[communication_data.isna().any(axis=1) | (communication_data == '').any(axis=1)]"
   ]
  },
  {
   "cell_type": "markdown",
   "id": "21ed29af-428e-4e4f-9165-8256377f183f",
   "metadata": {},
   "source": [
    "**2.3. Handling Data Types** "
   ]
  },
  {
   "cell_type": "code",
   "execution_count": 108,
   "id": "9bc4cefa-2746-4b85-ae39-e4d19e4ffb05",
   "metadata": {},
   "outputs": [
    {
     "name": "stdout",
     "output_type": "stream",
     "text": [
      "phone_encoded                      int64\n",
      "Customer_id_encoded                int64\n",
      "Amount_Including_VAT             float64\n",
      "Order_Date                datetime64[ns]\n",
      "Return_Date               datetime64[ns]\n",
      "location_encoded                  object\n",
      "transaction_id_encoded            object\n",
      "dtype: object\n"
     ]
    }
   ],
   "source": [
    "# Check the data types of each column\n",
    "print(transaction_data.dtypes)"
   ]
  },
  {
   "cell_type": "code",
   "execution_count": 110,
   "id": "dbdc2968-c59f-4209-8c19-8a91b90f4890",
   "metadata": {},
   "outputs": [
    {
     "name": "stdout",
     "output_type": "stream",
     "text": [
      "phone_encoded                     int64\n",
      "number_of_messages                int64\n",
      "has_response                       bool\n",
      "id of conversation                int64\n",
      "date_of_communication    datetime64[ns]\n",
      "location_encoded                 object\n",
      "dtype: object\n"
     ]
    }
   ],
   "source": [
    "# Check the data types of each column\n",
    "print(communication_data.dtypes)"
   ]
  },
  {
   "cell_type": "markdown",
   "id": "0901819e-a45e-426b-b575-7a844548ee16",
   "metadata": {},
   "source": [
    "**2.4. Standardize Columns to Lower Case** "
   ]
  },
  {
   "cell_type": "code",
   "execution_count": 112,
   "id": "b9be43e0-c294-456f-a6b7-23758e8f6bbb",
   "metadata": {},
   "outputs": [
    {
     "name": "stdout",
     "output_type": "stream",
     "text": [
      "Index(['phone_encoded', 'Customer_id_encoded', 'Amount_Including_VAT',\n",
      "       'Order_Date', 'Return_Date', 'location_encoded',\n",
      "       'transaction_id_encoded'],\n",
      "      dtype='object')\n"
     ]
    }
   ],
   "source": [
    "# Verify the column names\n",
    "print(transaction_data.columns)"
   ]
  },
  {
   "cell_type": "code",
   "execution_count": 114,
   "id": "5bd82422-1969-4237-b8a6-6ce139247685",
   "metadata": {},
   "outputs": [
    {
     "name": "stdout",
     "output_type": "stream",
     "text": [
      "Index(['phone_encoded', 'customer_id_encoded', 'amount_including_vat',\n",
      "       'order_date', 'return_date', 'location_encoded',\n",
      "       'transaction_id_encoded'],\n",
      "      dtype='object')\n"
     ]
    }
   ],
   "source": [
    "# Standardize column names: lowercase and replace spaces with underscores\n",
    "transaction_data.columns = transaction_data.columns.str.lower().str.replace(' ', '_')\n",
    "\n",
    "# Verify the column names\n",
    "print(transaction_data.columns)"
   ]
  },
  {
   "cell_type": "code",
   "execution_count": 120,
   "id": "59b9e65e-2867-49db-8a42-64b047ce2154",
   "metadata": {},
   "outputs": [
    {
     "name": "stdout",
     "output_type": "stream",
     "text": [
      "   phone_encoded location_encoded\n",
      "0           1528         421e5f1c\n",
      "1           1528         f3a00157\n",
      "2           1528     online_sales\n",
      "3           1528         fb72e28e\n",
      "4           1528     online_sales\n"
     ]
    }
   ],
   "source": [
    "# Convert 'location_encoded' column values to lowercase\n",
    "transaction_data['location_encoded'] = transaction_data['location_encoded'].str.lower()\n",
    "\n",
    "# Check the result to confirm\n",
    "print(transaction_data[['phone_encoded', 'location_encoded']].head())"
   ]
  },
  {
   "cell_type": "code",
   "execution_count": 122,
   "id": "75f7cd14-90be-43c0-90d8-a3d9c47ddcca",
   "metadata": {},
   "outputs": [
    {
     "name": "stdout",
     "output_type": "stream",
     "text": [
      "Index(['phone_encoded', 'number_of_messages', 'has_response',\n",
      "       'id of conversation', 'date_of_communication', 'location_encoded'],\n",
      "      dtype='object')\n"
     ]
    }
   ],
   "source": [
    "# Verify the column names\n",
    "print(communication_data.columns)"
   ]
  },
  {
   "cell_type": "code",
   "execution_count": 124,
   "id": "76cb9c99-f3a9-4422-aadc-8e142b36c5f7",
   "metadata": {},
   "outputs": [
    {
     "name": "stdout",
     "output_type": "stream",
     "text": [
      "Index(['phone_encoded', 'number_of_messages', 'has_response',\n",
      "       'id_of_conversation', 'date_of_communication', 'location_encoded'],\n",
      "      dtype='object')\n"
     ]
    }
   ],
   "source": [
    "# Standardize column names: lowercase and replace spaces with underscores\n",
    "communication_data.columns = communication_data.columns.str.lower().str.replace(' ', '_')\n",
    "\n",
    "# Verify the column names\n",
    "print(communication_data.columns)"
   ]
  },
  {
   "cell_type": "code",
   "execution_count": 126,
   "id": "7e6843b3-1283-4b49-957f-3121c5571396",
   "metadata": {},
   "outputs": [
    {
     "name": "stdout",
     "output_type": "stream",
     "text": [
      "   has_response\n",
      "0          true\n",
      "1          true\n",
      "2          true\n",
      "3          true\n",
      "4         false\n",
      "5          true\n",
      "6          true\n",
      "7          true\n",
      "8          true\n",
      "9         false\n",
      "10        false\n",
      "11         true\n",
      "12         true\n",
      "13        false\n",
      "14        false\n",
      "15         true\n",
      "16         true\n",
      "17         true\n",
      "18        false\n",
      "19         true\n"
     ]
    }
   ],
   "source": [
    "# Replace TRUE/FALSE with true/false in the 'has_response' column\n",
    "communication_data['has_response'] = communication_data['has_response'].replace({True: 'true', False: 'false'})\n",
    "\n",
    "# Verify the changes\n",
    "print(communication_data[['has_response']].head(20))"
   ]
  },
  {
   "cell_type": "markdown",
   "id": "7c2425b5-f341-4db8-a843-26a834805909",
   "metadata": {},
   "source": [
    "**2.6. Handling Duplicate Values**"
   ]
  },
  {
   "cell_type": "code",
   "execution_count": 136,
   "id": "445c9b2b-2cc8-4993-9733-c978bb2ec216",
   "metadata": {},
   "outputs": [
    {
     "name": "stdout",
     "output_type": "stream",
     "text": [
      "Number of duplicate rows in transaction_data (by Transaction_ID_encoded): 22490\n",
      "    phone_encoded  customer_id_encoded  amount_including_vat order_date  \\\n",
      "5            1528                 3102                  37.0 2023-11-01   \n",
      "6            1528                 3102                  47.0 2023-11-01   \n",
      "8            1528                 3102                  59.0 2023-07-31   \n",
      "9            1528                 3102                  33.0 2023-07-31   \n",
      "13           1528                 3102                  69.0 2023-09-22   \n",
      "\n",
      "   return_date location_encoded transaction_id_encoded  \n",
      "5   2000-01-01     online_sales               1409aa5f  \n",
      "6   2000-01-01     online_sales               1409aa5f  \n",
      "8   2000-01-01     online_sales               3880059e  \n",
      "9   2000-01-01     online_sales               3880059e  \n",
      "13  2000-01-01     online_sales               50b0b4b5  \n"
     ]
    }
   ],
   "source": [
    "# Check for duplicates in transaction_data based on 'Transaction_ID' (encoded)\n",
    "duplicates_transaction_data = transaction_data[transaction_data.duplicated(subset=['transaction_id_encoded'])]\n",
    "\n",
    "# Print number of duplicate rows and display them\n",
    "print(f\"Number of duplicate rows in transaction_data (by Transaction_ID_encoded): {duplicates_transaction_data.shape[0]}\")\n",
    "print(duplicates_transaction_data.head())  # Show the first few duplicate rows"
   ]
  },
  {
   "cell_type": "code",
   "execution_count": 141,
   "id": "594bc335-e40f-42c6-ac75-9405ce6d5f53",
   "metadata": {},
   "outputs": [
    {
     "name": "stdout",
     "output_type": "stream",
     "text": [
      "   transaction_id_encoded  phone_encoded  customer_id_encoded  \\\n",
      "4                1409aa5f           1528                 3102   \n",
      "5                1409aa5f           1528                 3102   \n",
      "6                1409aa5f           1528                 3102   \n",
      "7                3880059e           1528                 3102   \n",
      "8                3880059e           1528                 3102   \n",
      "9                3880059e           1528                 3102   \n",
      "12               50b0b4b5           1528                 3102   \n",
      "13               50b0b4b5           1528                 3102   \n",
      "14               ddaee0d4           1528                 5145   \n",
      "15               f3de61c3           1528                 4719   \n",
      "16               f3de61c3           1528                 4719   \n",
      "17               50b0b4b5           1528                 3102   \n",
      "18               50b0b4b5           1528                 3102   \n",
      "19               e9d3c3fd           1528                 4719   \n",
      "20               e9d3c3fd           1528                 4719   \n",
      "22               50b0b4b5           1528                 3102   \n",
      "26               ddaee0d4           1528                 5145   \n",
      "28               a63d3033           1528                 9093   \n",
      "29               a63d3033           1528                 9093   \n",
      "30               a63d3033           1528                 9093   \n",
      "\n",
      "    amount_including_vat order_date return_date location_encoded  \n",
      "4                  23.00 2023-11-01  2000-01-01     online_sales  \n",
      "5                  37.00 2023-11-01  2000-01-01     online_sales  \n",
      "6                  47.00 2023-11-01  2000-01-01     online_sales  \n",
      "7                  23.00 2023-07-31  2000-01-01     online_sales  \n",
      "8                  59.00 2023-07-31  2000-01-01     online_sales  \n",
      "9                  33.00 2023-07-31  2000-01-01     online_sales  \n",
      "12                 49.00 2023-09-22  2000-01-01     online_sales  \n",
      "13                 69.00 2023-09-22  2000-01-01     online_sales  \n",
      "14                -33.00 2023-03-03  2023-03-23     online_sales  \n",
      "15                 51.00 2023-05-16  2000-01-01         f3a00157  \n",
      "16                 27.20 2023-05-16  2000-01-01         f3a00157  \n",
      "17                 76.00 2023-09-22  2000-01-01     online_sales  \n",
      "18                 37.00 2023-09-22  2000-01-01     online_sales  \n",
      "19                 84.15 2023-11-03  2000-01-01         f3a00157  \n",
      "20                 51.00 2023-11-03  2000-01-01         f3a00157  \n",
      "22                -37.00 2023-09-22  2023-09-26     online_sales  \n",
      "26                -33.00 2023-03-03  2023-03-23     online_sales  \n",
      "28                 66.00 2023-02-01  2000-01-01         3989cc32  \n",
      "29                 10.00 2023-02-01  2000-01-01         3989cc32  \n",
      "30                 17.00 2023-02-01  2000-01-01         3989cc32  \n"
     ]
    }
   ],
   "source": [
    "# Check duplicates by Transaction_ID_encoded and inspect other columns\n",
    "duplicates_info = transaction_data[transaction_data.duplicated(subset=['transaction_id_encoded'], keep=False)]\n",
    "\n",
    "# Inspect the duplicated rows for insight into why duplicates might exist\n",
    "print(duplicates_info[['transaction_id_encoded', 'phone_encoded', 'customer_id_encoded', 'amount_including_vat', 'order_date', 'return_date', 'location_encoded']].head(20))\n"
   ]
  },
  {
   "cell_type": "markdown",
   "id": "c7954b91-1940-4719-9441-b026ff0cb8f5",
   "metadata": {},
   "source": [
    "# Attention ('transaction_data'): \n",
    "**Not removing duplicates in 'transaction_id_encoded' column**\n",
    "\n",
    "- Given that the **'customer_id_encoded' and 'amount_including_vat'** values are different for the **'same transaction_id_encoded'**, it suggests that these are not errors but rather represent distinct purchases or transactions linked to the same 'transaction_id_encoded'.\n",
    "\n",
    "- Different customer_id_encoded values mean different customers are involved, even if they share the same transaction_id_encoded. The variations in amounts could indicate different amounts for the same transaction **(e.g. partial payments or different purchase details for the same overall transaction).**\n",
    "\n",
    "- With no other way to confirm, I will assume these are **separate purchases/ purchases split into multiple payments or orders**, it makes sense to keep them as separate rows, each representing a valid transaction."
   ]
  },
  {
   "cell_type": "code",
   "execution_count": 164,
   "id": "966dd70b-7077-4001-b40f-1e5db3215ec7",
   "metadata": {},
   "outputs": [
    {
     "name": "stdout",
     "output_type": "stream",
     "text": [
      "Number of duplicate rows in communication_data (by id_of_conversation): 0\n",
      "Empty DataFrame\n",
      "Columns: [phone_encoded, number_of_messages, has_response, id_of_conversation, date_of_communication, location_encoded]\n",
      "Index: []\n"
     ]
    }
   ],
   "source": [
    "# Check for duplicates in communication_data based on 'id_of_conversation'\n",
    "duplicates_communication_data = communication_data[communication_data.duplicated(subset=['id_of_conversation'], keep=False)]\n",
    "\n",
    "# Print number of duplicate rows and display them\n",
    "print(f\"Number of duplicate rows in communication_data (by id_of_conversation): {duplicates_communication_data.shape[0]}\")\n",
    "print(duplicates_communication_data.head())  # Show the first few duplicate rows"
   ]
  },
  {
   "cell_type": "markdown",
   "id": "1f044545-c2b3-4074-b01c-c88575380567",
   "metadata": {},
   "source": [
    "# 3. Merging the Datasets"
   ]
  },
  {
   "cell_type": "code",
   "execution_count": 200,
   "id": "7aca2955-abcd-43f9-8116-948bfd18b255",
   "metadata": {},
   "outputs": [
    {
     "name": "stdout",
     "output_type": "stream",
     "text": [
      "(135957, 12)\n"
     ]
    }
   ],
   "source": [
    "# Perform an inner join to keep only customers with both purchase and communication data\n",
    "mercaux_customer = pd.merge(transaction_data, communication_data, on='phone_encoded', how='inner')\n",
    "\n",
    "# Verify the number of rows after the inner join\n",
    "print(mercaux_customer.shape)"
   ]
  },
  {
   "cell_type": "code",
   "execution_count": 178,
   "id": "d636a6e1-058f-49ba-8963-0f0391190a1c",
   "metadata": {},
   "outputs": [
    {
     "name": "stdout",
     "output_type": "stream",
     "text": [
      "Number of duplicate rows: 14595\n",
      "    phone_encoded  customer_id_encoded  amount_including_vat order_date  \\\n",
      "21           1517                  368                 102.0 2024-06-18   \n",
      "22           1517                  368                 102.0 2024-06-18   \n",
      "23           1517                  368                 102.0 2024-06-18   \n",
      "24           1517                  368                 102.0 2024-06-18   \n",
      "30           1515                 1753                  99.0 2024-04-09   \n",
      "\n",
      "   return_date location_encoded_x transaction_id_encoded  number_of_messages  \\\n",
      "21  2000-01-01           67f6beac               decdb3d6                   1   \n",
      "22  2000-01-01           67f6beac               decdb3d6                   1   \n",
      "23  2000-01-01           67f6beac               decdb3d6                   1   \n",
      "24  2000-01-01           67f6beac               decdb3d6                   1   \n",
      "30  2000-01-01           436a35c0               6270a35f                   2   \n",
      "\n",
      "   has_response  id_of_conversation date_of_communication location_encoded_y  \n",
      "21        false             1582241   2024-06-20 15:48:15           67f6beac  \n",
      "22        false             1583773   2024-06-24 14:09:07           67f6beac  \n",
      "23        false             1582241   2024-06-20 15:48:15           67f6beac  \n",
      "24        false             1583773   2024-06-24 14:09:07           67f6beac  \n",
      "30         true             1715711   2024-09-04 11:51:42           436a35c0  \n"
     ]
    }
   ],
   "source": [
    "# Check for duplicates in the merged data\n",
    "duplicates = mercaux_customer[mercaux_customer.duplicated(keep=False)]\n",
    "\n",
    "# Print the number of duplicate rows\n",
    "print(f\"Number of duplicate rows: {duplicates.shape[0]}\")\n",
    "\n",
    "# Optionally, display some of the duplicate rows\n",
    "print(duplicates.head())"
   ]
  },
  {
   "cell_type": "code",
   "execution_count": 180,
   "id": "eec8b3e7-11a8-46c1-8930-f3e4a88998f7",
   "metadata": {},
   "outputs": [
    {
     "name": "stdout",
     "output_type": "stream",
     "text": [
      "Number of duplicate rows based on 'transaction_id_encoded' and 'phone_encoded': 131540\n"
     ]
    }
   ],
   "source": [
    "# Check if there are duplicates in 'transaction_id_encoded' after the merge\n",
    "duplicates_in_transaction = mercaux_customer[mercaux_customer.duplicated(subset=['phone_encoded', 'transaction_id_encoded'], keep=False)]\n",
    "\n",
    "# Print the number of rows with duplicates\n",
    "print(f\"Number of duplicate rows based on 'transaction_id_encoded' and 'phone_encoded': {duplicates_in_transaction.shape[0]}\")"
   ]
  },
  {
   "cell_type": "code",
   "execution_count": 186,
   "id": "0f34dd10-d5d1-44b7-9d19-6203e29455e8",
   "metadata": {},
   "outputs": [
    {
     "name": "stdout",
     "output_type": "stream",
     "text": [
      "Number of duplicate rows based on 'phone_encoded' and 'transaction_id_encoded': 131540\n",
      "   phone_encoded  customer_id_encoded  amount_including_vat order_date  \\\n",
      "0           1526                 1255                 124.0 2024-07-29   \n",
      "1           1526                 1255                  40.0 2024-07-29   \n",
      "2           1526                 1255                  36.0 2024-07-29   \n",
      "4           1523                 1503                 396.0 2024-07-28   \n",
      "5           1523                 1503                  53.6 2024-07-28   \n",
      "\n",
      "  return_date location_encoded_x transaction_id_encoded  number_of_messages  \\\n",
      "0  2000-01-01           67f6beac               f646a9eb                   1   \n",
      "1  2000-01-01           67f6beac               f646a9eb                   1   \n",
      "2  2000-01-01           67f6beac               f646a9eb                   1   \n",
      "4  2000-01-01           67f6beac               c3189de5                   1   \n",
      "5  2000-01-01           67f6beac               c3189de5                   1   \n",
      "\n",
      "  has_response  id_of_conversation date_of_communication location_encoded_y  \n",
      "0        false             1661701   2024-07-30 11:26:40           67f6beac  \n",
      "1        false             1661701   2024-07-30 11:26:40           67f6beac  \n",
      "2        false             1661701   2024-07-30 11:26:40           67f6beac  \n",
      "4        false             1661690   2024-07-30 11:07:12           67f6beac  \n",
      "5        false             1661690   2024-07-30 11:07:12           67f6beac  \n",
      "Number of multiple interactions for the same transaction: 82756\n",
      "   phone_encoded  customer_id_encoded  amount_including_vat order_date  \\\n",
      "0           1526                 1255                 124.0 2024-07-29   \n",
      "1           1526                 1255                  40.0 2024-07-29   \n",
      "2           1526                 1255                  36.0 2024-07-29   \n",
      "4           1523                 1503                 396.0 2024-07-28   \n",
      "5           1523                 1503                  53.6 2024-07-28   \n",
      "\n",
      "  return_date location_encoded_x transaction_id_encoded  number_of_messages  \\\n",
      "0  2000-01-01           67f6beac               f646a9eb                   1   \n",
      "1  2000-01-01           67f6beac               f646a9eb                   1   \n",
      "2  2000-01-01           67f6beac               f646a9eb                   1   \n",
      "4  2000-01-01           67f6beac               c3189de5                   1   \n",
      "5  2000-01-01           67f6beac               c3189de5                   1   \n",
      "\n",
      "  has_response  id_of_conversation date_of_communication location_encoded_y  \n",
      "0        false             1661701   2024-07-30 11:26:40           67f6beac  \n",
      "1        false             1661701   2024-07-30 11:26:40           67f6beac  \n",
      "2        false             1661701   2024-07-30 11:26:40           67f6beac  \n",
      "4        false             1661690   2024-07-30 11:07:12           67f6beac  \n",
      "5        false             1661690   2024-07-30 11:07:12           67f6beac  \n"
     ]
    }
   ],
   "source": [
    "# Check for duplicates based on 'phone_encoded' and 'transaction_id_encoded'\n",
    "duplicates = mercaux_customer[mercaux_customer.duplicated(subset=['phone_encoded', 'transaction_id_encoded'], keep=False)]\n",
    "\n",
    "# Print the number of duplicate rows\n",
    "print(f\"Number of duplicate rows based on 'phone_encoded' and 'transaction_id_encoded': {duplicates.shape[0]}\")\n",
    "print(duplicates.head())\n",
    "\n",
    "# Check for interactions with the same 'transaction_id_encoded' and 'phone_encoded' but different dates\n",
    "multiple_interactions = mercaux_customer[mercaux_customer.duplicated(subset=['phone_encoded', 'transaction_id_encoded', 'date_of_communication'], keep=False)]\n",
    "\n",
    "# Print number of multiple interactions\n",
    "print(f\"Number of multiple interactions for the same transaction: {multiple_interactions.shape[0]}\")\n",
    "print(multiple_interactions.head())"
   ]
  },
  {
   "cell_type": "code",
   "execution_count": 190,
   "id": "150bf878-e3a3-4e5b-84a7-a813c42b2be8",
   "metadata": {},
   "outputs": [
    {
     "data": {
      "image/png": "[encoded data removed]",
      "text/plain": [
       "<Figure size 1000x600 with 1 Axes>"
      ]
     },
     "metadata": {},
     "output_type": "display_data"
    },
    {
     "name": "stdout",
     "output_type": "stream",
     "text": [
      "Number of outliers (transactions with unusually high number of messages): 1680\n",
      "Sample of outliers (transactions with unusually high number of messages):\n",
      "   transaction_id_encoded  number_of_messages\n",
      "4                001821ec                  68\n",
      "14               00303466                  30\n",
      "15               003041bf                  45\n",
      "23               003c8c87                  40\n",
      "24               0040087a                  20\n"
     ]
    }
   ],
   "source": [
    "# Counting interactions and Detecting Outliers\n",
    "\n",
    "import pandas as pd\n",
    "import numpy as np\n",
    "import seaborn as sns\n",
    "import matplotlib.pyplot as plt\n",
    "\n",
    "# 1. Count the number of interactions per transaction\n",
    "interaction_count_per_transaction = mercaux_customer.groupby('transaction_id_encoded')['number_of_messages'].count().reset_index()\n",
    "\n",
    "# 2. Check for anomalies by visualizing the distribution\n",
    "# Plot the distribution of interactions per transaction\n",
    "plt.figure(figsize=(10, 6))\n",
    "sns.histplot(interaction_count_per_transaction['number_of_messages'], bins=50, kde=True)\n",
    "plt.title('Distribution of Interactions per Transaction')\n",
    "plt.xlabel('Number of Interactions (Messages) per Transaction')\n",
    "plt.ylabel('Frequency')\n",
    "plt.show()\n",
    "\n",
    "# 3. Detecting outliers using IQR (Interquartile Range)\n",
    "Q1 = interaction_count_per_transaction['number_of_messages'].quantile(0.25)\n",
    "Q3 = interaction_count_per_transaction['number_of_messages'].quantile(0.75)\n",
    "IQR = Q3 - Q1\n",
    "\n",
    "# Defining outlier boundaries\n",
    "lower_bound = Q1 - 1.5 * IQR\n",
    "upper_bound = Q3 + 1.5 * IQR\n",
    "\n",
    "# Filtering rows where the number of interactions is outside the bounds\n",
    "outliers = interaction_count_per_transaction[(interaction_count_per_transaction['number_of_messages'] < lower_bound) | \n",
    "                                              (interaction_count_per_transaction['number_of_messages'] > upper_bound)]\n",
    "\n",
    "# 4. Output the number of outliers\n",
    "print(f\"Number of outliers (transactions with unusually high number of messages): {outliers.shape[0]}\")\n",
    "\n",
    "# 5. Optionally, display a few of the outliers\n",
    "print(\"Sample of outliers (transactions with unusually high number of messages):\")\n",
    "print(outliers.head())\n"
   ]
  },
  {
   "cell_type": "code",
   "execution_count": 192,
   "id": "f3f7dc05-ccfa-432a-a3db-6297d370d154",
   "metadata": {},
   "outputs": [
    {
     "name": "stdout",
     "output_type": "stream",
     "text": [
      "Number of invalid rows (number_of_messages > 23): 0\n",
      "Empty DataFrame\n",
      "Columns: [transaction_id_encoded, number_of_messages]\n",
      "Index: []\n"
     ]
    }
   ],
   "source": [
    "# Filter for invalid entries where the number of messages is greater than 23\n",
    "invalid_message_entries = mercaux_customer[mercaux_customer['number_of_messages'] > 23]\n",
    "\n",
    "# Print out the number of invalid rows and a sample of them\n",
    "print(f\"Number of invalid rows (number_of_messages > 23): {invalid_message_entries.shape[0]}\")\n",
    "print(invalid_message_entries[['transaction_id_encoded', 'number_of_messages']].head())\n",
    "\n",
    "# Or cap them to 23\n",
    "mercaux_customer['number_of_messages'] = mercaux_customer['number_of_messages'].apply(lambda x: 23 if x > 23 else x)\n"
   ]
  },
  {
   "cell_type": "code",
   "execution_count": 194,
   "id": "96065ded-ee5d-4f81-a3d5-6e26f36b6e74",
   "metadata": {},
   "outputs": [
    {
     "name": "stdout",
     "output_type": "stream",
     "text": [
      "Number of transactions with multiple interactions: 18196\n",
      "transaction_id_encoded\n",
      "00086f29      5\n",
      "001382ab     15\n",
      "0015769e      8\n",
      "001821ec    168\n",
      "00182f08      5\n",
      "Name: number_of_messages, dtype: int64\n"
     ]
    }
   ],
   "source": [
    "# Group by transaction_id_encoded and count the number of messages for each transaction\n",
    "interaction_counts = mercaux_customer.groupby('transaction_id_encoded')['number_of_messages'].sum()\n",
    "\n",
    "# Find any transactions with multiple interactions (i.e., >1 message for the same transaction)\n",
    "multiple_interactions = interaction_counts[interaction_counts > 1]\n",
    "\n",
    "# Show the number of such transactions\n",
    "print(f\"Number of transactions with multiple interactions: {multiple_interactions.shape[0]}\")\n",
    "print(multiple_interactions.head())"
   ]
  },
  {
   "cell_type": "code",
   "execution_count": 202,
   "id": "e63d0666-153f-4eb7-8386-e20a167a21d5",
   "metadata": {},
   "outputs": [
    {
     "name": "stdout",
     "output_type": "stream",
     "text": [
      "Number of duplicate rows based on 'id_of_conversation': 135883\n",
      "   phone_encoded  customer_id_encoded  amount_including_vat order_date  \\\n",
      "0           1526                 1255                 124.0 2024-07-29   \n",
      "1           1526                 1255                  40.0 2024-07-29   \n",
      "2           1526                 1255                  36.0 2024-07-29   \n",
      "3           1526                 1255                  58.0 2024-07-30   \n",
      "4           1523                 1503                 396.0 2024-07-28   \n",
      "\n",
      "  return_date location_encoded_x transaction_id_encoded  number_of_messages  \\\n",
      "0  2000-01-01           67f6beac               f646a9eb                   1   \n",
      "1  2000-01-01           67f6beac               f646a9eb                   1   \n",
      "2  2000-01-01           67f6beac               f646a9eb                   1   \n",
      "3  2000-01-01           67f6beac               747e9b21                   1   \n",
      "4  2000-01-01           67f6beac               c3189de5                   1   \n",
      "\n",
      "  has_response  id_of_conversation date_of_communication location_encoded_y  \n",
      "0        false             1661701   2024-07-30 11:26:40           67f6beac  \n",
      "1        false             1661701   2024-07-30 11:26:40           67f6beac  \n",
      "2        false             1661701   2024-07-30 11:26:40           67f6beac  \n",
      "3        false             1661701   2024-07-30 11:26:40           67f6beac  \n",
      "4        false             1661690   2024-07-30 11:07:12           67f6beac  \n"
     ]
    }
   ],
   "source": [
    "# Check for duplicates based on 'id_of_conversation'\n",
    "duplicates_conversation = mercaux_customer[mercaux_customer.duplicated(subset=['id_of_conversation'], keep=False)]\n",
    "\n",
    "# Print the number of duplicate rows and a sample of them\n",
    "print(f\"Number of duplicate rows based on 'id_of_conversation': {duplicates_conversation.shape[0]}\")\n",
    "print(duplicates_conversation.head())  # Show the first few duplicate rows"
   ]
  },
  {
   "cell_type": "code",
   "execution_count": 206,
   "id": "63bd0d9a-aebc-4172-beeb-7427db2455da",
   "metadata": {},
   "outputs": [
    {
     "name": "stdout",
     "output_type": "stream",
     "text": [
      "Number of unique conversations: 3814\n"
     ]
    }
   ],
   "source": [
    "# Identify how many unique conversations exist\n",
    "unique_conversations = mercaux_customer['id_of_conversation'].nunique()\n",
    "print(f\"Number of unique conversations: {unique_conversations}\")"
   ]
  },
  {
   "cell_type": "code",
   "execution_count": 214,
   "id": "3a87df2a-c10f-4d73-8220-b38e996f5b6f",
   "metadata": {},
   "outputs": [],
   "source": [
    "# Rename the columns for better clarity\n",
    "mercaux_customer.rename(columns={'location_encoded_x': 'location_encoded_left', 'location_encoded_y': 'location_encoded_right'}, inplace=True)"
   ]
  },
  {
   "cell_type": "markdown",
   "id": "169e482a-28be-4b64-b9bc-6babe579154a",
   "metadata": {},
   "source": [
    "**Creating New Aggregated Dataset**"
   ]
  },
  {
   "cell_type": "code",
   "execution_count": 220,
   "id": "717ff581-5029-450c-b644-cc1e835a778c",
   "metadata": {},
   "outputs": [
    {
     "name": "stdout",
     "output_type": "stream",
     "text": [
      "   id_of_conversation  number_of_messages has_response location_encoded_left  \\\n",
      "0             1116444                 742         true              caddbc5a   \n",
      "1             1117247                  16         true              10a46a4a   \n",
      "2             1149956                 135         true              9ae67770   \n",
      "3             1150044                  78         true              c25dda79   \n",
      "4             1150045                   6        false              c25dda79   \n",
      "\n",
      "  location_encoded_right  amount_including_vat order_date  \\\n",
      "0               67f6beac                966.85 2023-04-20   \n",
      "1               67f6beac                 79.50 2023-06-08   \n",
      "2               9ae67770               1523.65 2023-06-12   \n",
      "3               c25dda79               1698.50 2023-04-30   \n",
      "4               c25dda79                521.00 2023-07-17   \n",
      "\n",
      "  transaction_id_encoded          return_date date_of_communication  \n",
      "0               8d40af76  2023-05-18 00:00:00   2024-01-11 13:42:21  \n",
      "1               0d586613            no_return   2024-01-12 11:16:16  \n",
      "2               5f30c030  2024-09-30 00:00:00   2024-01-23 16:28:35  \n",
      "3               c07c8c39  2023-04-30 00:00:00   2024-01-23 17:29:10  \n",
      "4               326cb1fd            no_return   2024-01-23 17:29:20  \n"
     ]
    }
   ],
   "source": [
    "# Aggregate the data by 'id_of_conversation'\n",
    "aggregated_data = mercaux_customer.groupby('id_of_conversation').agg({\n",
    "    'number_of_messages': 'sum',  # Sum the number of messages\n",
    "    'has_response': lambda x: x.mode()[0] if not x.mode().empty else 'false',  # Most frequent response\n",
    "    'location_encoded_left': lambda x: x.mode()[0] if not x.mode().empty else 'unknown',  # Most frequent location from transactions\n",
    "    'location_encoded_right': lambda x: x.mode()[0] if not x.mode().empty else 'unknown',  # Most frequent location from communications\n",
    "    'amount_including_vat': 'sum',  # Sum the amounts\n",
    "    'order_date': 'first',  # Keep the first order date\n",
    "    'transaction_id_encoded': 'first',  # Keep the first transaction ID for reference\n",
    "    'return_date': lambda x: 'no_return' if (x == '2000-01-01').all() else x.max(),  # Keep 'no_return' if all returns are '2000-01-01', else take latest return date\n",
    "    'date_of_communication': 'min'  # Keep the first communication date\n",
    "}).reset_index()\n",
    "\n",
    "# Check the result\n",
    "print(aggregated_data.head())"
   ]
  },
  {
   "cell_type": "markdown",
   "id": "5cac3ec3-1fa4-4918-95db-965feb359d35",
   "metadata": {},
   "source": [
    "# 4. Exploratory Data Analysis"
   ]
  },
  {
   "cell_type": "markdown",
   "id": "e9b721aa-8165-45b5-99b6-f945331e5235",
   "metadata": {},
   "source": [
    "**A/B Testing: Control Group vs Test Group**"
   ]
  },
  {
   "cell_type": "code",
   "execution_count": 534,
   "id": "a523a0f2-1c3e-4c88-b385-8db98060e59a",
   "metadata": {},
   "outputs": [
    {
     "data": {
      "text/html": [
       "<div>\n",
       "<style scoped>\n",
       "    .dataframe tbody tr th:only-of-type {\n",
       "        vertical-align: middle;\n",
       "    }\n",
       "\n",
       "    .dataframe tbody tr th {\n",
       "        vertical-align: top;\n",
       "    }\n",
       "\n",
       "    .dataframe thead th {\n",
       "        text-align: right;\n",
       "    }\n",
       "</style>\n",
       "<table border=\"1\" class=\"dataframe\">\n",
       "  <thead>\n",
       "    <tr style=\"text-align: right;\">\n",
       "      <th></th>\n",
       "      <th>phone_encoded</th>\n",
       "      <th>customer_id_encoded</th>\n",
       "      <th>amount_including_vat</th>\n",
       "      <th>order_date</th>\n",
       "      <th>return_date</th>\n",
       "      <th>location_encoded_left</th>\n",
       "      <th>transaction_id_encoded</th>\n",
       "      <th>number_of_messages</th>\n",
       "      <th>has_response</th>\n",
       "      <th>id_of_conversation</th>\n",
       "      <th>date_of_communication</th>\n",
       "      <th>location_encoded_right</th>\n",
       "    </tr>\n",
       "  </thead>\n",
       "  <tbody>\n",
       "    <tr>\n",
       "      <th>0</th>\n",
       "      <td>1526</td>\n",
       "      <td>1255</td>\n",
       "      <td>124.00</td>\n",
       "      <td>2024-07-29</td>\n",
       "      <td>2000-01-01</td>\n",
       "      <td>67f6beac</td>\n",
       "      <td>f646a9eb</td>\n",
       "      <td>1</td>\n",
       "      <td>0</td>\n",
       "      <td>1661701</td>\n",
       "      <td>2024-07-30 11:26:40</td>\n",
       "      <td>67f6beac</td>\n",
       "    </tr>\n",
       "    <tr>\n",
       "      <th>1</th>\n",
       "      <td>1526</td>\n",
       "      <td>1255</td>\n",
       "      <td>40.00</td>\n",
       "      <td>2024-07-29</td>\n",
       "      <td>2000-01-01</td>\n",
       "      <td>67f6beac</td>\n",
       "      <td>f646a9eb</td>\n",
       "      <td>1</td>\n",
       "      <td>0</td>\n",
       "      <td>1661701</td>\n",
       "      <td>2024-07-30 11:26:40</td>\n",
       "      <td>67f6beac</td>\n",
       "    </tr>\n",
       "    <tr>\n",
       "      <th>2</th>\n",
       "      <td>1526</td>\n",
       "      <td>1255</td>\n",
       "      <td>36.00</td>\n",
       "      <td>2024-07-29</td>\n",
       "      <td>2000-01-01</td>\n",
       "      <td>67f6beac</td>\n",
       "      <td>f646a9eb</td>\n",
       "      <td>1</td>\n",
       "      <td>0</td>\n",
       "      <td>1661701</td>\n",
       "      <td>2024-07-30 11:26:40</td>\n",
       "      <td>67f6beac</td>\n",
       "    </tr>\n",
       "    <tr>\n",
       "      <th>3</th>\n",
       "      <td>1526</td>\n",
       "      <td>1255</td>\n",
       "      <td>58.00</td>\n",
       "      <td>2024-07-30</td>\n",
       "      <td>2000-01-01</td>\n",
       "      <td>67f6beac</td>\n",
       "      <td>747e9b21</td>\n",
       "      <td>1</td>\n",
       "      <td>0</td>\n",
       "      <td>1661701</td>\n",
       "      <td>2024-07-30 11:26:40</td>\n",
       "      <td>67f6beac</td>\n",
       "    </tr>\n",
       "    <tr>\n",
       "      <th>4</th>\n",
       "      <td>1523</td>\n",
       "      <td>1503</td>\n",
       "      <td>396.00</td>\n",
       "      <td>2024-07-28</td>\n",
       "      <td>2000-01-01</td>\n",
       "      <td>67f6beac</td>\n",
       "      <td>c3189de5</td>\n",
       "      <td>1</td>\n",
       "      <td>0</td>\n",
       "      <td>1661690</td>\n",
       "      <td>2024-07-30 11:07:12</td>\n",
       "      <td>67f6beac</td>\n",
       "    </tr>\n",
       "    <tr>\n",
       "      <th>...</th>\n",
       "      <td>...</td>\n",
       "      <td>...</td>\n",
       "      <td>...</td>\n",
       "      <td>...</td>\n",
       "      <td>...</td>\n",
       "      <td>...</td>\n",
       "      <td>...</td>\n",
       "      <td>...</td>\n",
       "      <td>...</td>\n",
       "      <td>...</td>\n",
       "      <td>...</td>\n",
       "      <td>...</td>\n",
       "    </tr>\n",
       "    <tr>\n",
       "      <th>135952</th>\n",
       "      <td>11</td>\n",
       "      <td>6586</td>\n",
       "      <td>-151.52</td>\n",
       "      <td>2023-11-24</td>\n",
       "      <td>2023-04-12</td>\n",
       "      <td>online_sales</td>\n",
       "      <td>0ef2709c</td>\n",
       "      <td>1</td>\n",
       "      <td>0</td>\n",
       "      <td>1805414</td>\n",
       "      <td>2024-10-23 09:41:32</td>\n",
       "      <td>09304a38</td>\n",
       "    </tr>\n",
       "    <tr>\n",
       "      <th>135953</th>\n",
       "      <td>11</td>\n",
       "      <td>6586</td>\n",
       "      <td>214.38</td>\n",
       "      <td>2023-10-28</td>\n",
       "      <td>2000-01-01</td>\n",
       "      <td>online_sales</td>\n",
       "      <td>c1e8e902</td>\n",
       "      <td>1</td>\n",
       "      <td>0</td>\n",
       "      <td>1773958</td>\n",
       "      <td>2024-10-11 14:44:37</td>\n",
       "      <td>09304a38</td>\n",
       "    </tr>\n",
       "    <tr>\n",
       "      <th>135954</th>\n",
       "      <td>11</td>\n",
       "      <td>6586</td>\n",
       "      <td>214.38</td>\n",
       "      <td>2023-10-28</td>\n",
       "      <td>2000-01-01</td>\n",
       "      <td>online_sales</td>\n",
       "      <td>c1e8e902</td>\n",
       "      <td>1</td>\n",
       "      <td>0</td>\n",
       "      <td>1805414</td>\n",
       "      <td>2024-10-23 09:41:32</td>\n",
       "      <td>09304a38</td>\n",
       "    </tr>\n",
       "    <tr>\n",
       "      <th>135955</th>\n",
       "      <td>3</td>\n",
       "      <td>376</td>\n",
       "      <td>15.20</td>\n",
       "      <td>2024-07-23</td>\n",
       "      <td>2000-01-01</td>\n",
       "      <td>67f6beac</td>\n",
       "      <td>514466eb</td>\n",
       "      <td>1</td>\n",
       "      <td>0</td>\n",
       "      <td>1661658</td>\n",
       "      <td>2024-07-30 10:39:16</td>\n",
       "      <td>67f6beac</td>\n",
       "    </tr>\n",
       "    <tr>\n",
       "      <th>135956</th>\n",
       "      <td>3</td>\n",
       "      <td>376</td>\n",
       "      <td>28.80</td>\n",
       "      <td>2024-07-23</td>\n",
       "      <td>2000-01-01</td>\n",
       "      <td>67f6beac</td>\n",
       "      <td>514466eb</td>\n",
       "      <td>1</td>\n",
       "      <td>0</td>\n",
       "      <td>1661658</td>\n",
       "      <td>2024-07-30 10:39:16</td>\n",
       "      <td>67f6beac</td>\n",
       "    </tr>\n",
       "  </tbody>\n",
       "</table>\n",
       "<p>135957 rows × 12 columns</p>\n",
       "</div>"
      ],
      "text/plain": [
       "        phone_encoded  customer_id_encoded  amount_including_vat order_date  \\\n",
       "0                1526                 1255                124.00 2024-07-29   \n",
       "1                1526                 1255                 40.00 2024-07-29   \n",
       "2                1526                 1255                 36.00 2024-07-29   \n",
       "3                1526                 1255                 58.00 2024-07-30   \n",
       "4                1523                 1503                396.00 2024-07-28   \n",
       "...               ...                  ...                   ...        ...   \n",
       "135952             11                 6586               -151.52 2023-11-24   \n",
       "135953             11                 6586                214.38 2023-10-28   \n",
       "135954             11                 6586                214.38 2023-10-28   \n",
       "135955              3                  376                 15.20 2024-07-23   \n",
       "135956              3                  376                 28.80 2024-07-23   \n",
       "\n",
       "       return_date location_encoded_left transaction_id_encoded  \\\n",
       "0       2000-01-01              67f6beac               f646a9eb   \n",
       "1       2000-01-01              67f6beac               f646a9eb   \n",
       "2       2000-01-01              67f6beac               f646a9eb   \n",
       "3       2000-01-01              67f6beac               747e9b21   \n",
       "4       2000-01-01              67f6beac               c3189de5   \n",
       "...            ...                   ...                    ...   \n",
       "135952  2023-04-12          online_sales               0ef2709c   \n",
       "135953  2000-01-01          online_sales               c1e8e902   \n",
       "135954  2000-01-01          online_sales               c1e8e902   \n",
       "135955  2000-01-01              67f6beac               514466eb   \n",
       "135956  2000-01-01              67f6beac               514466eb   \n",
       "\n",
       "        number_of_messages  has_response  id_of_conversation  \\\n",
       "0                        1             0             1661701   \n",
       "1                        1             0             1661701   \n",
       "2                        1             0             1661701   \n",
       "3                        1             0             1661701   \n",
       "4                        1             0             1661690   \n",
       "...                    ...           ...                 ...   \n",
       "135952                   1             0             1805414   \n",
       "135953                   1             0             1773958   \n",
       "135954                   1             0             1805414   \n",
       "135955                   1             0             1661658   \n",
       "135956                   1             0             1661658   \n",
       "\n",
       "       date_of_communication location_encoded_right  \n",
       "0        2024-07-30 11:26:40               67f6beac  \n",
       "1        2024-07-30 11:26:40               67f6beac  \n",
       "2        2024-07-30 11:26:40               67f6beac  \n",
       "3        2024-07-30 11:26:40               67f6beac  \n",
       "4        2024-07-30 11:07:12               67f6beac  \n",
       "...                      ...                    ...  \n",
       "135952   2024-10-23 09:41:32               09304a38  \n",
       "135953   2024-10-11 14:44:37               09304a38  \n",
       "135954   2024-10-23 09:41:32               09304a38  \n",
       "135955   2024-07-30 10:39:16               67f6beac  \n",
       "135956   2024-07-30 10:39:16               67f6beac  \n",
       "\n",
       "[135957 rows x 12 columns]"
      ]
     },
     "execution_count": 534,
     "metadata": {},
     "output_type": "execute_result"
    }
   ],
   "source": [
    "mercaux_customer"
   ]
  },
  {
   "cell_type": "code",
   "execution_count": 527,
   "id": "79b7b0a3-2f1e-4865-bc92-0644aa600107",
   "metadata": {},
   "outputs": [
    {
     "name": "stdout",
     "output_type": "stream",
     "text": [
      "Number of customers in the control group: 93816\n",
      "Number of customers in the test group: 42141\n"
     ]
    }
   ],
   "source": [
    "# Convert 'has_response' to binary (1 for 'true', 0 for 'false')\n",
    "mercaux_customer['has_response'] = mercaux_customer['has_response'].map({'true': 1, 'false': 0})\n",
    "\n",
    "# Create control and test groups again\n",
    "control_group = mercaux_customer[mercaux_customer['has_response'] == 0]  # No response\n",
    "test_group = mercaux_customer[mercaux_customer['has_response'] == 1]  # Responded to message\n",
    "\n",
    "# Check the number of customers in each group\n",
    "print(f\"Number of customers in the control group: {control_group.shape[0]}\")\n",
    "print(f\"Number of customers in the test group: {test_group.shape[0]}\")"
   ]
  },
  {
   "cell_type": "code",
   "execution_count": 538,
   "id": "e4905764-b77d-4177-ad65-b3e1a5a6a7db",
   "metadata": {},
   "outputs": [
    {
     "name": "stdout",
     "output_type": "stream",
     "text": [
      "Average purchase amount for control group: 65.95810224268781\n",
      "Average purchase amount for test group: 60.78676277259677\n"
     ]
    }
   ],
   "source": [
    "import pandas as pd\n",
    "\n",
    "# Create a 'days_to_purchase' column based on the 'return_date'\n",
    "# Convert the 'return_date' to datetime\n",
    "mercaux_customer['return_date'] = pd.to_datetime(mercaux_customer['return_date'], errors='coerce')\n",
    "\n",
    "# Calculate 'days_to_purchase' (days between communication and return)\n",
    "# We'll use '2000-01-01' as a flag for \"no return\" and treat it as a non-purchase\n",
    "mercaux_customer['days_to_purchase'] = (mercaux_customer['return_date'] - mercaux_customer['date_of_communication']).dt.days\n",
    "\n",
    "# Replace 'NaT' or 'no return' with a placeholder value (e.g., -1 or a suitable flag)\n",
    "mercaux_customer['days_to_purchase'] = mercaux_customer['days_to_purchase'].fillna(-1)\n",
    "\n",
    "# Now split the data into control and test groups\n",
    "control_group = mercaux_customer[mercaux_customer['has_response'] == 0]  # No response (control group)\n",
    "test_group = mercaux_customer[mercaux_customer['has_response'] == 1]  # Responded to message (test group)\n",
    "\n",
    "# Compare average purchase amounts between test and control groups\n",
    "avg_purchase_control = control_group['amount_including_vat'].mean()\n",
    "avg_purchase_test = test_group['amount_including_vat'].mean()\n",
    "\n",
    "print(f\"Average purchase amount for control group: {avg_purchase_control}\")\n",
    "print(f\"Average purchase amount for test group: {avg_purchase_test}\")\n"
   ]
  },
  {
   "cell_type": "code",
   "execution_count": 544,
   "id": "c1e7c36a-094a-4ae1-8cdb-c8bdda630303",
   "metadata": {},
   "outputs": [
    {
     "data": {
      "image/png": "[encoded data removed]",
      "text/plain": [
       "<Figure size 800x600 with 1 Axes>"
      ]
     },
     "metadata": {},
     "output_type": "display_data"
    },
    {
     "name": "stdout",
     "output_type": "stream",
     "text": [
      "Summary Statistics for Purchase Amount by Group:\n",
      "                count       mean        std    min   25%   50%     75%     max\n",
      "has_response                                                                  \n",
      "0             93816.0  65.958102  89.089272 -495.0  34.0  67.0  110.00   850.0\n",
      "1             42141.0  60.786763  93.075545 -850.0  30.0  63.2  106.25  2000.0\n"
     ]
    }
   ],
   "source": [
    "import matplotlib.pyplot as plt\n",
    "import seaborn as sns\n",
    "\n",
    "# 1. Plotting the comparison of purchase amounts between test and control groups\n",
    "plt.figure(figsize=(8, 6))\n",
    "sns.boxplot(x='has_response', y='amount_including_vat', data=mercaux_customer)\n",
    "plt.title('Comparison of Purchase Amount Between Test and Control Groups')\n",
    "plt.xlabel('Response to Message (Control vs Test)')\n",
    "plt.ylabel('Purchase Amount')\n",
    "plt.xticks([0, 1], ['Control (No Response)', 'Test (Responded)'])\n",
    "plt.show()\n",
    "\n",
    "# 2. Summary statistics for the comparison of purchase amounts\n",
    "purchase_stats = mercaux_customer.groupby('has_response')['amount_including_vat'].describe()\n",
    "\n",
    "# Print the summary statistics\n",
    "print(\"Summary Statistics for Purchase Amount by Group:\")\n",
    "print(purchase_stats)"
   ]
  },
  {
   "cell_type": "markdown",
   "id": "f4e01dfa-a43a-4d82-a781-f8ecfffe222e",
   "metadata": {},
   "source": [
    "**Key Insights Summary**\n",
    "\n",
    "**1. The control group (93,816 customers):** Consisted of those who did not respond to messages,, they had an average purchase amount of **65.96 usd.** Purchase amounts in this group range from -495 to 850 dollars, with a notable standard deviation of 89.09, indicating substantial **variability in customer spending behavior** within this group.\n",
    "\n",
    "**2. The test group (42,141 customers):** Were those who responded to messages, they had a **slightly lower average purchase amount of 60.79 usd.** The purchase amounts in this group range from -850 to 2000 dollars, with a standard deviation of $93.08, reflecting a similar degree of variability, but with a **broader range in spending** compared to the control group.\n",
    "\n",
    "The variability in spending observed in both groups suggests that external factors, such as **customer preferences, engagement intensity, or other influences,** play a significant role in purchasing decisions, and responses to messages alone may not fully explain the differences in spending."
   ]
  },
  {
   "cell_type": "markdown",
   "id": "ed051f28-7255-4ba8-bdc2-60d7d80d3091",
   "metadata": {},
   "source": [
    "**Linear Regression Model**\n",
    "\n",
    "The linear regression model was created to assess the relationship between the number of messages sent to customers, their response to the messages, and their purchase amounts, aiming to understand how engagement influences purchasing behavior."
   ]
  },
  {
   "cell_type": "code",
   "execution_count": 550,
   "id": "fdf0fe09-59ef-4165-99c8-9200f648be2b",
   "metadata": {},
   "outputs": [
    {
     "name": "stdout",
     "output_type": "stream",
     "text": [
      "Model R^2: 0.0009712946436317704\n",
      "Model Coefficients: [-0.04257096 -2.109296  ]\n",
      "Model Intercept: 64.21210614801039\n"
     ]
    }
   ],
   "source": [
    "import pandas as pd\n",
    "from sklearn.linear_model import LinearRegression\n",
    "from sklearn.model_selection import train_test_split\n",
    "from sklearn.preprocessing import StandardScaler\n",
    "\n",
    "# Prepare features (X) and target (y)\n",
    "X = mercaux_customer[['number_of_messages', 'has_response']]  # Independent variables\n",
    "y = mercaux_customer['amount_including_vat']  # Target: amount spent or other metric\n",
    "\n",
    "# Split data into train and test sets\n",
    "X_train, X_test, y_train, y_test = train_test_split(X, y, test_size=0.30, random_state=42)\n",
    "\n",
    "# Scale features\n",
    "scaler = StandardScaler()\n",
    "X_train = scaler.fit_transform(X_train)\n",
    "X_test = scaler.transform(X_test)\n",
    "\n",
    "# Fit a linear regression model\n",
    "model = LinearRegression()\n",
    "model.fit(X_train, y_train)\n",
    "\n",
    "# Evaluate the model\n",
    "print(f\"Model R^2: {model.score(X_test, y_test)}\")\n",
    "\n",
    "# Optionally, print the coefficients for further interpretation\n",
    "print(f\"Model Coefficients: {model.coef_}\")\n",
    "print(f\"Model Intercept: {model.intercept_}\")"
   ]
  },
  {
   "cell_type": "code",
   "execution_count": 568,
   "id": "6c9fde16-38d4-4152-9040-b7610bb778ac",
   "metadata": {},
   "outputs": [
    {
     "name": "stdout",
     "output_type": "stream",
     "text": [
      "Accuracy: 0.7148\n"
     ]
    }
   ],
   "source": [
    "from sklearn.metrics import accuracy_score, precision_score, recall_score, f1_score, confusion_matrix\n",
    "from sklearn.model_selection import train_test_split\n",
    "from sklearn.linear_model import LogisticRegression\n",
    "from sklearn.preprocessing import StandardScaler\n",
    "\n",
    "# Convert 'amount_including_vat' into binary (e.g., large purchase = 1, small purchase = 0)\n",
    "threshold = 100  # Example threshold for large purchases\n",
    "mercaux_customer['purchase_above_threshold'] = (mercaux_customer['amount_including_vat'] > threshold).astype(int)\n",
    "\n",
    "# Prepare features and target\n",
    "X = mercaux_customer[['number_of_messages', 'has_response']]  # Features: number of messages and response\n",
    "y = mercaux_customer['purchase_above_threshold']  # Target: whether the purchase was above the threshold\n",
    "\n",
    "# Split data into training and testing sets\n",
    "X_train, X_test, y_train, y_test = train_test_split(X, y, test_size=0.2, random_state=42)\n",
    "\n",
    "# Standardize features\n",
    "scaler = StandardScaler()\n",
    "X_train_scaled = scaler.fit_transform(X_train)\n",
    "X_test_scaled = scaler.transform(X_test)\n",
    "\n",
    "# Fit the logistic regression model\n",
    "model = LogisticRegression()\n",
    "model.fit(X_train_scaled, y_train)\n",
    "\n",
    "# Predict the results\n",
    "y_pred = model.predict(X_test_scaled)\n",
    "\n",
    "# Evaluate the model using classification metrics\n",
    "accuracy = accuracy_score(y_test, y_pred)\n",
    "print(f\"Accuracy: {accuracy:.4f}\")\n"
   ]
  },
  {
   "cell_type": "code",
   "execution_count": 570,
   "id": "b4c41fc8-583c-4245-9400-287374d07591",
   "metadata": {},
   "outputs": [
    {
     "name": "stdout",
     "output_type": "stream",
     "text": [
      "Model Coefficients: [[ 0.02700497 -0.0658942 ]]\n",
      "Model Intercept: [-0.93479318]\n"
     ]
    }
   ],
   "source": [
    "# Optionally, print the coefficients for further interpretation\n",
    "print(f\"Model Coefficients: {model.coef_}\")\n",
    "print(f\"Model Intercept: {model.intercept_}\")"
   ]
  },
  {
   "cell_type": "markdown",
   "id": "0606b147-7fe4-4515-abf9-e42a76e63ddc",
   "metadata": {},
   "source": [
    "**Key Insights Summary**\n",
    "- The regression model shows a **weak positive relationship** between the number of messages sent and the likelihood of a purchase, with a coefficient of 0.0270. This suggests that as the number of messages increases, the chances of a customer making a purchase slightly increase, though the **effect is minimal.**\n",
    "- The \"has_response\" variable has a small negative coefficient of -0.0659, indicating that customers who respond to messages are slightly less likely to make a purchase above the threshold, but the impact is negligible.\n",
    "\n",
    "Overall, the **model's accuracy of 71.48%** and low R² value suggest that customer engagement, in terms of message volume and response, **does not have a strong influence** on purchasing behavior. Other factors beyond engagement, such as product or customer-specific variables, may be more significant in driving purchase decisions."
   ]
  },
  {
   "cell_type": "markdown",
   "id": "81fed609-7d6d-4dc1-bf04-b4f3e0abf8c0",
   "metadata": {},
   "source": [
    "**Aggregated Dataset for communications on sales**"
   ]
  },
  {
   "cell_type": "code",
   "execution_count": 242,
   "id": "3fb5127c-4ddf-48c3-be7c-d9b7389e4ded",
   "metadata": {},
   "outputs": [
    {
     "data": {
      "text/html": [
       "<div>\n",
       "<style scoped>\n",
       "    .dataframe tbody tr th:only-of-type {\n",
       "        vertical-align: middle;\n",
       "    }\n",
       "\n",
       "    .dataframe tbody tr th {\n",
       "        vertical-align: top;\n",
       "    }\n",
       "\n",
       "    .dataframe thead th {\n",
       "        text-align: right;\n",
       "    }\n",
       "</style>\n",
       "<table border=\"1\" class=\"dataframe\">\n",
       "  <thead>\n",
       "    <tr style=\"text-align: right;\">\n",
       "      <th></th>\n",
       "      <th>id_of_conversation</th>\n",
       "      <th>number_of_messages</th>\n",
       "      <th>has_response</th>\n",
       "      <th>location_encoded_left</th>\n",
       "      <th>location_encoded_right</th>\n",
       "      <th>amount_including_vat</th>\n",
       "      <th>order_date</th>\n",
       "      <th>transaction_id_encoded</th>\n",
       "      <th>return_date</th>\n",
       "      <th>date_of_communication</th>\n",
       "      <th>days_to_purchase</th>\n",
       "    </tr>\n",
       "  </thead>\n",
       "  <tbody>\n",
       "    <tr>\n",
       "      <th>0</th>\n",
       "      <td>1116444</td>\n",
       "      <td>742</td>\n",
       "      <td>true</td>\n",
       "      <td>caddbc5a</td>\n",
       "      <td>67f6beac</td>\n",
       "      <td>966.85</td>\n",
       "      <td>2023-04-20</td>\n",
       "      <td>8d40af76</td>\n",
       "      <td>2023-05-18 00:00:00</td>\n",
       "      <td>2023-01-11 13:42:21</td>\n",
       "      <td>98</td>\n",
       "    </tr>\n",
       "    <tr>\n",
       "      <th>1</th>\n",
       "      <td>1117247</td>\n",
       "      <td>16</td>\n",
       "      <td>true</td>\n",
       "      <td>10a46a4a</td>\n",
       "      <td>67f6beac</td>\n",
       "      <td>79.50</td>\n",
       "      <td>2023-06-08</td>\n",
       "      <td>0d586613</td>\n",
       "      <td>no_return</td>\n",
       "      <td>2023-01-12 11:16:16</td>\n",
       "      <td>146</td>\n",
       "    </tr>\n",
       "    <tr>\n",
       "      <th>2</th>\n",
       "      <td>1149956</td>\n",
       "      <td>135</td>\n",
       "      <td>true</td>\n",
       "      <td>9ae67770</td>\n",
       "      <td>9ae67770</td>\n",
       "      <td>1523.65</td>\n",
       "      <td>2023-06-12</td>\n",
       "      <td>5f30c030</td>\n",
       "      <td>2024-09-30 00:00:00</td>\n",
       "      <td>2023-01-23 16:28:35</td>\n",
       "      <td>139</td>\n",
       "    </tr>\n",
       "    <tr>\n",
       "      <th>3</th>\n",
       "      <td>1150044</td>\n",
       "      <td>78</td>\n",
       "      <td>true</td>\n",
       "      <td>c25dda79</td>\n",
       "      <td>c25dda79</td>\n",
       "      <td>1698.50</td>\n",
       "      <td>2023-04-30</td>\n",
       "      <td>c07c8c39</td>\n",
       "      <td>2023-04-30 00:00:00</td>\n",
       "      <td>2023-01-23 17:29:10</td>\n",
       "      <td>96</td>\n",
       "    </tr>\n",
       "    <tr>\n",
       "      <th>4</th>\n",
       "      <td>1150045</td>\n",
       "      <td>6</td>\n",
       "      <td>false</td>\n",
       "      <td>c25dda79</td>\n",
       "      <td>c25dda79</td>\n",
       "      <td>521.00</td>\n",
       "      <td>2023-07-17</td>\n",
       "      <td>326cb1fd</td>\n",
       "      <td>no_return</td>\n",
       "      <td>2023-01-23 17:29:20</td>\n",
       "      <td>174</td>\n",
       "    </tr>\n",
       "  </tbody>\n",
       "</table>\n",
       "</div>"
      ],
      "text/plain": [
       "   id_of_conversation  number_of_messages has_response location_encoded_left  \\\n",
       "0             1116444                 742         true              caddbc5a   \n",
       "1             1117247                  16         true              10a46a4a   \n",
       "2             1149956                 135         true              9ae67770   \n",
       "3             1150044                  78         true              c25dda79   \n",
       "4             1150045                   6        false              c25dda79   \n",
       "\n",
       "  location_encoded_right  amount_including_vat order_date  \\\n",
       "0               67f6beac                966.85 2023-04-20   \n",
       "1               67f6beac                 79.50 2023-06-08   \n",
       "2               9ae67770               1523.65 2023-06-12   \n",
       "3               c25dda79               1698.50 2023-04-30   \n",
       "4               c25dda79                521.00 2023-07-17   \n",
       "\n",
       "  transaction_id_encoded          return_date date_of_communication  \\\n",
       "0               8d40af76  2023-05-18 00:00:00   2023-01-11 13:42:21   \n",
       "1               0d586613            no_return   2023-01-12 11:16:16   \n",
       "2               5f30c030  2024-09-30 00:00:00   2023-01-23 16:28:35   \n",
       "3               c07c8c39  2023-04-30 00:00:00   2023-01-23 17:29:10   \n",
       "4               326cb1fd            no_return   2023-01-23 17:29:20   \n",
       "\n",
       "   days_to_purchase  \n",
       "0                98  \n",
       "1               146  \n",
       "2               139  \n",
       "3                96  \n",
       "4               174  "
      ]
     },
     "execution_count": 242,
     "metadata": {},
     "output_type": "execute_result"
    }
   ],
   "source": [
    "aggregated_data.head()"
   ]
  },
  {
   "cell_type": "code",
   "execution_count": 246,
   "id": "69389b6e-1813-4eed-a3ac-711a33b4d9d2",
   "metadata": {},
   "outputs": [
    {
     "name": "stdout",
     "output_type": "stream",
     "text": [
      "<class 'pandas.core.frame.DataFrame'>\n",
      "RangeIndex: 3814 entries, 0 to 3813\n",
      "Data columns (total 11 columns):\n",
      " #   Column                  Non-Null Count  Dtype         \n",
      "---  ------                  --------------  -----         \n",
      " 0   id_of_conversation      3814 non-null   int64         \n",
      " 1   number_of_messages      3814 non-null   int64         \n",
      " 2   has_response            3814 non-null   object        \n",
      " 3   location_encoded_left   3814 non-null   object        \n",
      " 4   location_encoded_right  3814 non-null   object        \n",
      " 5   amount_including_vat    3814 non-null   float64       \n",
      " 6   order_date              3814 non-null   datetime64[ns]\n",
      " 7   transaction_id_encoded  3814 non-null   object        \n",
      " 8   return_date             3814 non-null   object        \n",
      " 9   date_of_communication   3814 non-null   datetime64[ns]\n",
      " 10  days_to_purchase        3814 non-null   int64         \n",
      "dtypes: datetime64[ns](2), float64(1), int64(3), object(5)\n",
      "memory usage: 327.9+ KB\n"
     ]
    }
   ],
   "source": [
    "aggregated_data.info()"
   ]
  },
  {
   "cell_type": "code",
   "execution_count": 250,
   "id": "90681b27-3800-4b80-a7a8-d5d1e37db7c0",
   "metadata": {},
   "outputs": [
    {
     "data": {
      "text/html": [
       "<div>\n",
       "<style scoped>\n",
       "    .dataframe tbody tr th:only-of-type {\n",
       "        vertical-align: middle;\n",
       "    }\n",
       "\n",
       "    .dataframe tbody tr th {\n",
       "        vertical-align: top;\n",
       "    }\n",
       "\n",
       "    .dataframe thead th {\n",
       "        text-align: right;\n",
       "    }\n",
       "</style>\n",
       "<table border=\"1\" class=\"dataframe\">\n",
       "  <thead>\n",
       "    <tr style=\"text-align: right;\">\n",
       "      <th></th>\n",
       "      <th>id_of_conversation</th>\n",
       "      <th>number_of_messages</th>\n",
       "      <th>amount_including_vat</th>\n",
       "      <th>order_date</th>\n",
       "      <th>date_of_communication</th>\n",
       "      <th>days_to_purchase</th>\n",
       "    </tr>\n",
       "  </thead>\n",
       "  <tbody>\n",
       "    <tr>\n",
       "      <th>count</th>\n",
       "      <td>3.814000e+03</td>\n",
       "      <td>3814.000000</td>\n",
       "      <td>3814.000000</td>\n",
       "      <td>3814</td>\n",
       "      <td>3814</td>\n",
       "      <td>3814.000000</td>\n",
       "    </tr>\n",
       "    <tr>\n",
       "      <th>mean</th>\n",
       "      <td>1.745528e+06</td>\n",
       "      <td>69.154955</td>\n",
       "      <td>2294.058807</td>\n",
       "      <td>2024-01-04 03:11:02.611431424</td>\n",
       "      <td>2023-09-21 14:33:04.878343168</td>\n",
       "      <td>104.057420</td>\n",
       "    </tr>\n",
       "    <tr>\n",
       "      <th>min</th>\n",
       "      <td>1.116444e+06</td>\n",
       "      <td>1.000000</td>\n",
       "      <td>-1721.000000</td>\n",
       "      <td>2023-01-01 00:00:00</td>\n",
       "      <td>2023-01-11 13:42:21</td>\n",
       "      <td>-355.000000</td>\n",
       "    </tr>\n",
       "    <tr>\n",
       "      <th>25%</th>\n",
       "      <td>1.710244e+06</td>\n",
       "      <td>15.000000</td>\n",
       "      <td>686.000000</td>\n",
       "      <td>2023-07-03 00:00:00</td>\n",
       "      <td>2023-08-23 07:45:44.249999872</td>\n",
       "      <td>-68.750000</td>\n",
       "    </tr>\n",
       "    <tr>\n",
       "      <th>50%</th>\n",
       "      <td>1.765928e+06</td>\n",
       "      <td>30.000000</td>\n",
       "      <td>1581.300000</td>\n",
       "      <td>2024-01-07 00:00:00</td>\n",
       "      <td>2023-10-03 16:04:16.500000</td>\n",
       "      <td>109.000000</td>\n",
       "    </tr>\n",
       "    <tr>\n",
       "      <th>75%</th>\n",
       "      <td>1.839411e+06</td>\n",
       "      <td>65.000000</td>\n",
       "      <td>2817.000000</td>\n",
       "      <td>2024-06-25 00:00:00</td>\n",
       "      <td>2023-11-13 15:33:15.500000</td>\n",
       "      <td>279.750000</td>\n",
       "    </tr>\n",
       "    <tr>\n",
       "      <th>max</th>\n",
       "      <td>1.982443e+06</td>\n",
       "      <td>3408.000000</td>\n",
       "      <td>31821.900000</td>\n",
       "      <td>2024-12-24 00:00:00</td>\n",
       "      <td>2023-12-30 16:38:21</td>\n",
       "      <td>664.000000</td>\n",
       "    </tr>\n",
       "    <tr>\n",
       "      <th>std</th>\n",
       "      <td>1.296716e+05</td>\n",
       "      <td>155.576976</td>\n",
       "      <td>2754.006987</td>\n",
       "      <td>NaN</td>\n",
       "      <td>NaN</td>\n",
       "      <td>212.317977</td>\n",
       "    </tr>\n",
       "  </tbody>\n",
       "</table>\n",
       "</div>"
      ],
      "text/plain": [
       "       id_of_conversation  number_of_messages  amount_including_vat  \\\n",
       "count        3.814000e+03         3814.000000           3814.000000   \n",
       "mean         1.745528e+06           69.154955           2294.058807   \n",
       "min          1.116444e+06            1.000000          -1721.000000   \n",
       "25%          1.710244e+06           15.000000            686.000000   \n",
       "50%          1.765928e+06           30.000000           1581.300000   \n",
       "75%          1.839411e+06           65.000000           2817.000000   \n",
       "max          1.982443e+06         3408.000000          31821.900000   \n",
       "std          1.296716e+05          155.576976           2754.006987   \n",
       "\n",
       "                          order_date          date_of_communication  \\\n",
       "count                           3814                           3814   \n",
       "mean   2024-01-04 03:11:02.611431424  2023-09-21 14:33:04.878343168   \n",
       "min              2023-01-01 00:00:00            2023-01-11 13:42:21   \n",
       "25%              2023-07-03 00:00:00  2023-08-23 07:45:44.249999872   \n",
       "50%              2024-01-07 00:00:00     2023-10-03 16:04:16.500000   \n",
       "75%              2024-06-25 00:00:00     2023-11-13 15:33:15.500000   \n",
       "max              2024-12-24 00:00:00            2023-12-30 16:38:21   \n",
       "std                              NaN                            NaN   \n",
       "\n",
       "       days_to_purchase  \n",
       "count       3814.000000  \n",
       "mean         104.057420  \n",
       "min         -355.000000  \n",
       "25%          -68.750000  \n",
       "50%          109.000000  \n",
       "75%          279.750000  \n",
       "max          664.000000  \n",
       "std          212.317977  "
      ]
     },
     "execution_count": 250,
     "metadata": {},
     "output_type": "execute_result"
    }
   ],
   "source": [
    "aggregated_data.describe()"
   ]
  },
  {
   "cell_type": "markdown",
   "id": "9249d102-03ca-4fa8-a81a-9ae647173bc2",
   "metadata": {},
   "source": [
    "**Time between Communication and Purchase**"
   ]
  },
  {
   "cell_type": "code",
   "execution_count": 229,
   "id": "b5f9eee2-08f3-4a5c-aee2-8941581afa4b",
   "metadata": {},
   "outputs": [
    {
     "name": "stdout",
     "output_type": "stream",
     "text": [
      "   id_of_conversation date_of_communication order_date  days_to_purchase\n",
      "0             1116444   2024-01-11 13:42:21 2023-04-20              -267\n",
      "1             1117247   2024-01-12 11:16:16 2023-06-08              -219\n",
      "2             1149956   2024-01-23 16:28:35 2023-06-12              -226\n",
      "3             1150044   2024-01-23 17:29:10 2023-04-30              -269\n",
      "4             1150045   2024-01-23 17:29:20 2023-07-17              -191\n"
     ]
    }
   ],
   "source": [
    "# Calculate time between communication and purchase\n",
    "aggregated_data['days_to_purchase'] = (aggregated_data['order_date'] - aggregated_data['date_of_communication']).dt.days\n",
    "\n",
    "# Display the first few rows to check the result\n",
    "print(aggregated_data[['id_of_conversation', 'date_of_communication', 'order_date', 'days_to_purchase']].head())"
   ]
  },
  {
   "cell_type": "code",
   "execution_count": 231,
   "id": "4148e2bc-1524-43d4-bb47-127a05dec45c",
   "metadata": {},
   "outputs": [
    {
     "name": "stdout",
     "output_type": "stream",
     "text": [
      "   id_of_conversation date_of_communication order_date  days_to_purchase\n",
      "0             1116444   2023-01-11 13:42:21 2023-04-20                98\n",
      "1             1117247   2023-01-12 11:16:16 2023-06-08               146\n",
      "2             1149956   2023-01-23 16:28:35 2023-06-12               139\n",
      "3             1150044   2023-01-23 17:29:10 2023-04-30                96\n",
      "4             1150045   2023-01-23 17:29:20 2023-07-17               174\n"
     ]
    }
   ],
   "source": [
    "# Fixing negative date values\n",
    "# Update the year of 'date_of_communication' from 2024 to 2023\n",
    "aggregated_data['date_of_communication'] = aggregated_data['date_of_communication'].apply(lambda x: x.replace(year=2023) if pd.notna(x) else x)\n",
    "\n",
    "# Recalculate the time between communication and purchase\n",
    "aggregated_data['days_to_purchase'] = (aggregated_data['order_date'] - aggregated_data['date_of_communication']).dt.days\n",
    "\n",
    "# Display the first few rows to check the result\n",
    "print(aggregated_data[['id_of_conversation', 'date_of_communication', 'order_date', 'days_to_purchase']].head())"
   ]
  },
  {
   "cell_type": "markdown",
   "id": "4e5edfe1-b33a-4221-991c-5895d4b2fe9c",
   "metadata": {},
   "source": [
    "**Attention: 'date_of_communication'**\n",
    "\n",
    "Without any other way to investigate further, my assumption is that the 'date_of_communication' column is **supposed to reflect dates from 2023 but all the dates are mistakenly recorded as 2024,** so I have adjusted these dates by changing the year to solve the issue of negative days_to_purchase."
   ]
  },
  {
   "cell_type": "markdown",
   "id": "ea368222-9213-4d29-8822-d500be0f7d76",
   "metadata": {},
   "source": [
    "**Distribution of Time to Purchase**\n",
    "\n",
    "The distribution of days_to_purchase to understand how quickly customers tend to make a purchase after receiving communication."
   ]
  },
  {
   "cell_type": "code",
   "execution_count": 254,
   "id": "582913f8-2235-4022-b9c8-15ff6462d506",
   "metadata": {},
   "outputs": [
    {
     "data": {
      "image/png": "[encoded data removed]",
      "text/plain": [
       "<Figure size 1000x600 with 1 Axes>"
      ]
     },
     "metadata": {},
     "output_type": "display_data"
    }
   ],
   "source": [
    "import matplotlib.pyplot as plt\n",
    "\n",
    "# Plot the distribution of days_to_purchase\n",
    "plt.figure(figsize=(10, 6))\n",
    "plt.hist(aggregated_data['days_to_purchase'], bins=30, edgecolor='black')\n",
    "plt.title('Distribution of Time to Purchase (Days)')\n",
    "plt.xlabel('Days to Purchase')\n",
    "plt.ylabel('Frequency')\n",
    "plt.show()"
   ]
  },
  {
   "cell_type": "markdown",
   "id": "9b76b43f-2eb5-433d-bf80-9a4b952918dc",
   "metadata": {},
   "source": [
    " **Impact of Message Frequency**"
   ]
  },
  {
   "cell_type": "code",
   "execution_count": 303,
   "id": "e1b7fb8e-85f2-45ca-92d8-6285759a5a4c",
   "metadata": {},
   "outputs": [
    {
     "data": {
      "image/png": "[encoded data removed]",
      "text/plain": [
       "<Figure size 1000x600 with 1 Axes>"
      ]
     },
     "metadata": {},
     "output_type": "display_data"
    }
   ],
   "source": [
    "import matplotlib.pyplot as plt\n",
    "import seaborn as sns\n",
    "\n",
    "# Plotting the distribution of days_to_purchase with respect to number_of_messages\n",
    "plt.figure(figsize=(10, 6))\n",
    "sns.scatterplot(data=aggregated_data, x='number_of_messages', y='days_to_purchase')\n",
    "plt.title('Days to Purchase vs. Number of Messages')\n",
    "plt.xlabel('Number of Messages')\n",
    "plt.ylabel('Days to Purchase')\n",
    "plt.show()"
   ]
  },
  {
   "cell_type": "code",
   "execution_count": 305,
   "id": "17d6faf6-54b6-4bec-85c3-8874b2870540",
   "metadata": {},
   "outputs": [
    {
     "name": "stdout",
     "output_type": "stream",
     "text": [
      "Correlation between number_of_messages and days_to_purchase: -0.03043477985315873\n"
     ]
    }
   ],
   "source": [
    "# Calculate the correlation between number_of_messages and days_to_purchase\n",
    "correlation = aggregated_data['number_of_messages'].corr(aggregated_data['days_to_purchase'])\n",
    "print(f\"Correlation between number_of_messages and days_to_purchase: {correlation}\")"
   ]
  },
  {
   "cell_type": "code",
   "execution_count": 307,
   "id": "3ba129f0-c16d-4103-b03a-02f402c74610",
   "metadata": {},
   "outputs": [
    {
     "name": "stdout",
     "output_type": "stream",
     "text": [
      "  message_bins  days_to_purchase\n",
      "0          1-5        137.718654\n",
      "1         6-10        110.033639\n",
      "2        11-15        110.558989\n",
      "3        16-20         54.191304\n",
      "4        21-25         56.258993\n"
     ]
    },
    {
     "name": "stderr",
     "output_type": "stream",
     "text": [
      "C:\\Users\\Ellen\\AppData\\Local\\Temp\\ipykernel_23424\\14249613.py:9: FutureWarning: The default of observed=False is deprecated and will be changed to True in a future version of pandas. Pass observed=False to retain current behavior or observed=True to adopt the future default and silence this warning.\n",
      "  message_effect = aggregated_data.groupby('message_bins').agg({\n"
     ]
    }
   ],
   "source": [
    "# Create bins for number of messages\n",
    "bins = [0, 5, 10, 15, 20, 25]\n",
    "labels = ['1-5', '6-10', '11-15', '16-20', '21-25']\n",
    "\n",
    "# Assign bins to number_of_messages\n",
    "aggregated_data['message_bins'] = pd.cut(aggregated_data['number_of_messages'], bins=bins, labels=labels)\n",
    "\n",
    "# Group by message bins and calculate average days_to_purchase\n",
    "message_effect = aggregated_data.groupby('message_bins').agg({\n",
    "    'days_to_purchase': 'mean'\n",
    "}).reset_index()\n",
    "\n",
    "# Display the results\n",
    "print(message_effect)"
   ]
  },
  {
   "cell_type": "markdown",
   "id": "cfb0ea38-4d0a-4cc8-ae11-7aaafbb8cd4a",
   "metadata": {},
   "source": [
    "**Comparison of Purchase Behavior (Pre/Post Communication)**\n",
    "\n",
    "Analyzing whether customers who received a response (has_response) tend to make purchases sooner or spend more compared to those who did not."
   ]
  },
  {
   "cell_type": "code",
   "execution_count": 328,
   "id": "340ab1a8-207e-4bae-9bb5-64133800218b",
   "metadata": {},
   "outputs": [
    {
     "name": "stdout",
     "output_type": "stream",
     "text": [
      "  has_response  days_to_purchase  amount_including_vat\n",
      "0        false         92.708874           2232.296291\n",
      "1         true        134.247601           2458.363695\n"
     ]
    }
   ],
   "source": [
    "# Group by 'has_response' and calculate average days to purchase and total purchase amount\n",
    "purchase_comparison = aggregated_data.groupby('has_response').agg({\n",
    "    'days_to_purchase': 'mean',\n",
    "    'amount_including_vat': 'mean'\n",
    "}).reset_index()\n",
    "\n",
    "print(purchase_comparison)"
   ]
  },
  {
   "cell_type": "code",
   "execution_count": 338,
   "id": "b8f5329b-367d-4e54-b83d-51fc47f6d04e",
   "metadata": {},
   "outputs": [
    {
     "name": "stdout",
     "output_type": "stream",
     "text": [
      "Summary Statistics by Response to Message:\n",
      "               count        mean         std    min    25%    50%    75%  \\\n",
      "has_response                                                               \n",
      "false         2772.0   92.708874  208.811951 -346.0 -79.00   94.0  263.0   \n",
      "true          1042.0  134.247601  218.625666 -355.0 -47.25  144.5  319.5   \n",
      "\n",
      "                max  \n",
      "has_response         \n",
      "false         664.0  \n",
      "true          628.0  \n"
     ]
    },
    {
     "data": {
      "image/png": "[encoded data removed]",
      "text/plain": [
       "<Figure size 1000x600 with 1 Axes>"
      ]
     },
     "metadata": {},
     "output_type": "display_data"
    }
   ],
   "source": [
    "import matplotlib.pyplot as plt\n",
    "import seaborn as sns\n",
    "\n",
    "# Visualize the distribution of 'days_to_purchase' for responders vs non-responders\n",
    "plt.figure(figsize=(10, 6))\n",
    "sns.boxplot(x='has_response', y='days_to_purchase', data=aggregated_data)\n",
    "\n",
    "# Title and labels\n",
    "plt.title('Days to Purchase by Customer Response')\n",
    "plt.xlabel('Response to Message')\n",
    "plt.ylabel('Days to Purchase')\n",
    "\n",
    "# Add summary statistics under the boxplot\n",
    "response_summary = aggregated_data.groupby('has_response')['days_to_purchase'].describe()\n",
    "print(\"Summary Statistics by Response to Message:\")\n",
    "print(response_summary)\n",
    "\n",
    "# Show the plot\n",
    "plt.show()"
   ]
  },
  {
   "cell_type": "markdown",
   "id": "61374590-171a-4dc4-b06f-edb379209a9f",
   "metadata": {},
   "source": [
    "**Interpretation of Results:**\n",
    "\n",
    "**Correlation:** The correlation between number_of_messages and days_to_purchase is **-0.03,** which is a very weak negative correlation. This suggests that there is **little to no relationship** between the number of messages and the time taken to purchase. Essentially, the more or fewer messages a customer receives doesn't significantly affect how quickly they make a purchase.\n",
    "\n",
    "**- No clear trend:** **The correlation is low,** and the message bins show some variability but not a clear upward or downward trend that would suggest that the number of messages has a direct impact on how quickly customers make a purchase.\n",
    "\n",
    "**Potential outliers or inconsistencies:** Although the data shows a general decline in purchase time after receiving 16-20 messages, the pattern doesn't fully support a consistent conclusion. It's possible that other factors, like the **type of product, customer preferences, or timing of the messages,** might play a larger role in purchasing behavior."
   ]
  }
 ],
 "metadata": {
  "kernelspec": {
   "display_name": "Python [conda env:base] *",
   "language": "python",
   "name": "conda-base-py"
  },
  "language_info": {
   "codemirror_mode": {
    "name": "ipython",
    "version": 3
   },
   "file_extension": ".py",
   "mimetype": "text/x-python",
   "name": "python",
   "nbconvert_exporter": "python",
   "pygments_lexer": "ipython3",
   "version": "3.12.7"
  }
 },
 "nbformat": 4,
 "nbformat_minor": 5
}
